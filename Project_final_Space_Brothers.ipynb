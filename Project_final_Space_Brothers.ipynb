{
 "cells": [
  {
   "cell_type": "markdown",
   "metadata": {},
   "source": [
    "# Финальный проект. Игры — Анализ рекламных источников"
   ]
  },
  {
   "cell_type": "markdown",
   "metadata": {},
   "source": [
    "### Задача:\n",
    "\n",
    "#### Проанализируйте поведения игроков в зависимости от источника перехода.\n",
    "\n",
    "Проанализируйте поведения игроков в зависимости от источника перехода.\n",
    "\n",
    "    Проведите исследовательский анализ данных;\n",
    "    Проанализируйте влияние источника перехода в игру на поведение пользователя;\n",
    "    Проверьте статистические гипотезы\n",
    "    \n",
    "1. Проверьте гипотезу: время завершения уровня различается в зависимости способа прохождения:\n",
    "\n",
    "     через реализацию проекта,\n",
    "     \n",
    "     через победу над первым игроком.\n",
    "\n",
    "2. Сформулируйте собственную статистическую гипотезу. Дополните её нулевой и альтернативной гипотезами. Проверьте гипотезу с помощью статистического теста."
   ]
  },
  {
   "cell_type": "markdown",
   "metadata": {},
   "source": [
    "#### Заказчик исследования - маркетинговый отдел компании-разработчика"
   ]
  },
  {
   "cell_type": "markdown",
   "metadata": {},
   "source": [
    "Содержание: \n",
    "<a class=\"anchor\" id=\"num0\"></a>\n",
    "\n",
    "[Шаг 1. Загрузка данных и необходимых библиотек](#num1)</a>\n",
    "\n",
    "[Шаг 2. Предобработка данных](#num2)</a>\n",
    "\n",
    "[Шаг 3. Исследовательский анализ данных](#num3)</a>\n",
    "\n",
    "[Шаг 4. Анализ влияния источника перехода в игру на поведение пользователя](#num4)</a>\n",
    "\n",
    "[Шаг 5. Проверка статистических гипотез](#num5)</a>\n",
    "\n",
    "[Шаг 6. Общие выводы](#num6)</a>"
   ]
  },
  {
   "cell_type": "markdown",
   "metadata": {},
   "source": [
    "## Описание датасетов:\n",
    "\n",
    "Основной датасет содержит данные о событиях, совершенных в мобильной игре «Космические братья». В ней пользователи строят свою космическую программу и пытаются преуспеть в нелёгком деле колонизации галактики.\n",
    "\n",
    "Основная монетизация игры — только планируется. Но предполагается, что в приложении будет происходить показ рекламы на экране с выбором типа объекта для постройки.\n",
    "\n",
    "В датасете представлены данные по игре пользователей на первом уровне. Завершение первого уровня требует от игрока выполнения одного из двух условий:\n",
    "\n",
    "    Победа над первым врагом\n",
    "    \n",
    "    Реализация проекта - разработка орбитальной сборки спутников\n",
    "    \n",
    "В датасете содержатся данные первых пользователей приложения — когорты пользователей, которые начали пользоваться приложением в период с 4 по 10 мая включительно."
   ]
  },
  {
   "cell_type": "markdown",
   "metadata": {},
   "source": [
    "#### Датасет game_actions.csv:\n",
    "\n",
    "\n",
    "- `event_datetime` — время события;\n",
    "- `event` — одно из трёх событий:\n",
    "    1. `building` — объект построен,\n",
    "    2. `finished_stage_1` — первый уровень завершён,\n",
    "    3. `project` — проект завершён;\n",
    "- `building_type` — один из трёх типов здания:\n",
    "    1. `assembly_shop` — сборочный цех,\n",
    "    2. `spaceport` — космопорт,\n",
    "    3. `research_center` — исследовательский центр;\n",
    "- `user_id` — идентификатор пользователя;\n",
    "- `project_type` — тип реализованного проекта;"
   ]
  },
  {
   "cell_type": "markdown",
   "metadata": {},
   "source": [
    "Помимо основного датасета есть два датасета с информацией о рекламных активностях. Они также помогут в решении задачи."
   ]
  },
  {
   "cell_type": "markdown",
   "metadata": {},
   "source": [
    "Датасет *ad_cost.csv*:\n",
    "\n",
    "- `day` - день, в который был совершен клик по объявлению\n",
    "- `source` - источник трафика\n",
    "- `cost` - стоимость кликов\n",
    "\n",
    "Датасет user_source.csv содержит колонки:\n",
    "\n",
    "- `user_id` - идентификатор пользователя\n",
    "- `source` - источников, с которого пришёл пользователь, установивший приложение"
   ]
  },
  {
   "cell_type": "code",
   "execution_count": 1,
   "metadata": {},
   "outputs": [
    {
     "name": "stdout",
     "output_type": "stream",
     "text": [
      "Defaulting to user installation because normal site-packages is not writeable\n",
      "Collecting seaborn\n",
      "  Downloading seaborn-0.11.1-py3-none-any.whl (285 kB)\n",
      "\u001b[K     |████████████████████████████████| 285 kB 3.7 MB/s eta 0:00:01\n",
      "\u001b[?25hRequirement already satisfied, skipping upgrade: scipy>=1.0 in /opt/conda/lib/python3.7/site-packages (from seaborn) (1.4.1)\n",
      "Requirement already satisfied, skipping upgrade: matplotlib>=2.2 in /opt/conda/lib/python3.7/site-packages (from seaborn) (3.1.0)\n",
      "Requirement already satisfied, skipping upgrade: numpy>=1.15 in /opt/conda/lib/python3.7/site-packages (from seaborn) (1.19.5)\n",
      "Requirement already satisfied, skipping upgrade: pandas>=0.23 in /opt/conda/lib/python3.7/site-packages (from seaborn) (0.25.1)\n",
      "Requirement already satisfied, skipping upgrade: python-dateutil>=2.1 in /opt/conda/lib/python3.7/site-packages (from matplotlib>=2.2->seaborn) (2.8.1)\n",
      "Requirement already satisfied, skipping upgrade: pyparsing!=2.0.4,!=2.1.2,!=2.1.6,>=2.0.1 in /opt/conda/lib/python3.7/site-packages (from matplotlib>=2.2->seaborn) (2.4.7)\n",
      "Requirement already satisfied, skipping upgrade: kiwisolver>=1.0.1 in /opt/conda/lib/python3.7/site-packages (from matplotlib>=2.2->seaborn) (1.3.1)\n",
      "Requirement already satisfied, skipping upgrade: cycler>=0.10 in /opt/conda/lib/python3.7/site-packages (from matplotlib>=2.2->seaborn) (0.10.0)\n",
      "Requirement already satisfied, skipping upgrade: pytz>=2017.2 in /opt/conda/lib/python3.7/site-packages (from pandas>=0.23->seaborn) (2021.1)\n",
      "Requirement already satisfied, skipping upgrade: six>=1.5 in /opt/conda/lib/python3.7/site-packages (from python-dateutil>=2.1->matplotlib>=2.2->seaborn) (1.15.0)\n",
      "Installing collected packages: seaborn\n",
      "Successfully installed seaborn-0.11.1\n"
     ]
    }
   ],
   "source": [
    "# Баш-ячейка для апгрейда seaborn\n",
    "!pip install -U seaborn"
   ]
  },
  {
   "cell_type": "markdown",
   "metadata": {},
   "source": [
    "### Ссылка на презентацию: https://drive.google.com/file/d/1mIlkO3bIPw-f3Hf3Qx3vuZ4b2GRxABvi/view?usp=sharing\n",
    "\n",
    "### Ссылка на дашборд(набор №2): https://public.tableau.com/profile/eugene7944#!/vizhome/SpaceBrothersDash/Dashboard1"
   ]
  },
  {
   "cell_type": "markdown",
   "metadata": {},
   "source": [
    "## <a class=\"anchor\" id=\"num1\"> [Шаг 1. Загрузка датасетов и необходимых библиотек](#num0)</a>"
   ]
  },
  {
   "cell_type": "code",
   "execution_count": 2,
   "metadata": {},
   "outputs": [],
   "source": [
    "# Загрузка необходимых библиотек\n",
    "import math as mth\n",
    "import pandas as pd\n",
    "import numpy as np\n",
    "import matplotlib.pyplot as plt\n",
    "import seaborn as sns\n",
    "from scipy import stats as st\n",
    "import warnings\n",
    "warnings.filterwarnings('ignore')"
   ]
  },
  {
   "cell_type": "code",
   "execution_count": 3,
   "metadata": {},
   "outputs": [],
   "source": [
    "# Пути загрузки датасетов\n",
    "filepath1 = '/datasets/ad_costs.csv'\n",
    "filepath2 = '/datasets/game_actions.csv'\n",
    "filepath3 = '/datasets/user_source.csv'"
   ]
  },
  {
   "cell_type": "code",
   "execution_count": 4,
   "metadata": {},
   "outputs": [],
   "source": [
    "# Загрузка датасетов\n",
    "ad_costs = pd.read_csv(filepath1)\n",
    "game_actions = pd.read_csv(filepath2)\n",
    "user_source = pd.read_csv(filepath3)"
   ]
  },
  {
   "cell_type": "markdown",
   "metadata": {},
   "source": [
    "## <a class=\"anchor\" id=\"num2\">[Шаг 2. Предобработка данных](#num0)</a>"
   ]
  },
  {
   "cell_type": "code",
   "execution_count": 5,
   "metadata": {},
   "outputs": [],
   "source": [
    "# Создадим функцию для изучения основной информации о датасете\n",
    "def dataframe_info(column, data):\n",
    "    display(data.sample(5))\n",
    "    print(2*'\\n')\n",
    "    data.info()\n",
    "    print(2*'\\n')\n",
    "    for column in data:\n",
    "        print('Количество пропусков в столбце',\n",
    "              column, ':', ((data[column].isna().sum() /\n",
    "                             len(data[column])*100).round()),\n",
    "              '%')\n",
    "\n",
    "    print('В датасете обнаружено {} дубликатов'.format(data.duplicated().sum()))"
   ]
  },
  {
   "cell_type": "code",
   "execution_count": 6,
   "metadata": {
    "scrolled": false
   },
   "outputs": [
    {
     "data": {
      "text/html": [
       "<div>\n",
       "<style scoped>\n",
       "    .dataframe tbody tr th:only-of-type {\n",
       "        vertical-align: middle;\n",
       "    }\n",
       "\n",
       "    .dataframe tbody tr th {\n",
       "        vertical-align: top;\n",
       "    }\n",
       "\n",
       "    .dataframe thead th {\n",
       "        text-align: right;\n",
       "    }\n",
       "</style>\n",
       "<table border=\"1\" class=\"dataframe\">\n",
       "  <thead>\n",
       "    <tr style=\"text-align: right;\">\n",
       "      <th></th>\n",
       "      <th>event_datetime</th>\n",
       "      <th>event</th>\n",
       "      <th>building_type</th>\n",
       "      <th>user_id</th>\n",
       "      <th>project_type</th>\n",
       "    </tr>\n",
       "  </thead>\n",
       "  <tbody>\n",
       "    <tr>\n",
       "      <td>94674</td>\n",
       "      <td>2020-05-13 00:31:06</td>\n",
       "      <td>building</td>\n",
       "      <td>spaceport</td>\n",
       "      <td>8cfe5de9-6305-4847-937c-3b938b88880c</td>\n",
       "      <td>NaN</td>\n",
       "    </tr>\n",
       "    <tr>\n",
       "      <td>106623</td>\n",
       "      <td>2020-05-14 15:26:16</td>\n",
       "      <td>building</td>\n",
       "      <td>research_center</td>\n",
       "      <td>7e9ff3c4-3234-491c-92fe-91463d2fff03</td>\n",
       "      <td>NaN</td>\n",
       "    </tr>\n",
       "    <tr>\n",
       "      <td>90229</td>\n",
       "      <td>2020-05-12 10:58:21</td>\n",
       "      <td>building</td>\n",
       "      <td>research_center</td>\n",
       "      <td>8cd92e81-ea87-4b78-85ce-459f162591b9</td>\n",
       "      <td>NaN</td>\n",
       "    </tr>\n",
       "    <tr>\n",
       "      <td>126614</td>\n",
       "      <td>2020-05-18 22:07:14</td>\n",
       "      <td>building</td>\n",
       "      <td>research_center</td>\n",
       "      <td>e2cd2203-3daf-4582-b24d-116306cf064e</td>\n",
       "      <td>NaN</td>\n",
       "    </tr>\n",
       "    <tr>\n",
       "      <td>13428</td>\n",
       "      <td>2020-05-05 14:12:03</td>\n",
       "      <td>building</td>\n",
       "      <td>assembly_shop</td>\n",
       "      <td>66cf245e-83a5-4f75-a19a-d719a7889738</td>\n",
       "      <td>NaN</td>\n",
       "    </tr>\n",
       "  </tbody>\n",
       "</table>\n",
       "</div>"
      ],
      "text/plain": [
       "             event_datetime     event    building_type  \\\n",
       "94674   2020-05-13 00:31:06  building        spaceport   \n",
       "106623  2020-05-14 15:26:16  building  research_center   \n",
       "90229   2020-05-12 10:58:21  building  research_center   \n",
       "126614  2020-05-18 22:07:14  building  research_center   \n",
       "13428   2020-05-05 14:12:03  building    assembly_shop   \n",
       "\n",
       "                                     user_id project_type  \n",
       "94674   8cfe5de9-6305-4847-937c-3b938b88880c          NaN  \n",
       "106623  7e9ff3c4-3234-491c-92fe-91463d2fff03          NaN  \n",
       "90229   8cd92e81-ea87-4b78-85ce-459f162591b9          NaN  \n",
       "126614  e2cd2203-3daf-4582-b24d-116306cf064e          NaN  \n",
       "13428   66cf245e-83a5-4f75-a19a-d719a7889738          NaN  "
      ]
     },
     "metadata": {},
     "output_type": "display_data"
    },
    {
     "name": "stdout",
     "output_type": "stream",
     "text": [
      "\n",
      "\n",
      "\n",
      "<class 'pandas.core.frame.DataFrame'>\n",
      "RangeIndex: 135640 entries, 0 to 135639\n",
      "Data columns (total 5 columns):\n",
      "event_datetime    135640 non-null object\n",
      "event             135640 non-null object\n",
      "building_type     127957 non-null object\n",
      "user_id           135640 non-null object\n",
      "project_type      1866 non-null object\n",
      "dtypes: object(5)\n",
      "memory usage: 5.2+ MB\n",
      "\n",
      "\n",
      "\n",
      "Количество пропусков в столбце event_datetime : 0.0 %\n",
      "Количество пропусков в столбце event : 0.0 %\n",
      "Количество пропусков в столбце building_type : 6.0 %\n",
      "Количество пропусков в столбце user_id : 0.0 %\n",
      "Количество пропусков в столбце project_type : 99.0 %\n",
      "В датасете обнаружено 1 дубликатов\n"
     ]
    }
   ],
   "source": [
    "# Посмотрим на датасет game_actions\n",
    "dataframe_info(game_actions.columns, game_actions)"
   ]
  },
  {
   "cell_type": "code",
   "execution_count": 7,
   "metadata": {},
   "outputs": [
    {
     "data": {
      "text/html": [
       "<div>\n",
       "<style scoped>\n",
       "    .dataframe tbody tr th:only-of-type {\n",
       "        vertical-align: middle;\n",
       "    }\n",
       "\n",
       "    .dataframe tbody tr th {\n",
       "        vertical-align: top;\n",
       "    }\n",
       "\n",
       "    .dataframe thead th {\n",
       "        text-align: right;\n",
       "    }\n",
       "</style>\n",
       "<table border=\"1\" class=\"dataframe\">\n",
       "  <thead>\n",
       "    <tr style=\"text-align: right;\">\n",
       "      <th></th>\n",
       "      <th>source</th>\n",
       "      <th>day</th>\n",
       "      <th>cost</th>\n",
       "    </tr>\n",
       "  </thead>\n",
       "  <tbody>\n",
       "    <tr>\n",
       "      <td>14</td>\n",
       "      <td>yandex_direct</td>\n",
       "      <td>2020-05-03</td>\n",
       "      <td>969.139394</td>\n",
       "    </tr>\n",
       "    <tr>\n",
       "      <td>18</td>\n",
       "      <td>yandex_direct</td>\n",
       "      <td>2020-05-07</td>\n",
       "      <td>114.429338</td>\n",
       "    </tr>\n",
       "    <tr>\n",
       "      <td>20</td>\n",
       "      <td>yandex_direct</td>\n",
       "      <td>2020-05-09</td>\n",
       "      <td>42.779505</td>\n",
       "    </tr>\n",
       "    <tr>\n",
       "      <td>15</td>\n",
       "      <td>yandex_direct</td>\n",
       "      <td>2020-05-04</td>\n",
       "      <td>554.651494</td>\n",
       "    </tr>\n",
       "    <tr>\n",
       "      <td>23</td>\n",
       "      <td>youtube_channel_reklama</td>\n",
       "      <td>2020-05-05</td>\n",
       "      <td>147.041741</td>\n",
       "    </tr>\n",
       "  </tbody>\n",
       "</table>\n",
       "</div>"
      ],
      "text/plain": [
       "                     source         day        cost\n",
       "14            yandex_direct  2020-05-03  969.139394\n",
       "18            yandex_direct  2020-05-07  114.429338\n",
       "20            yandex_direct  2020-05-09   42.779505\n",
       "15            yandex_direct  2020-05-04  554.651494\n",
       "23  youtube_channel_reklama  2020-05-05  147.041741"
      ]
     },
     "metadata": {},
     "output_type": "display_data"
    },
    {
     "name": "stdout",
     "output_type": "stream",
     "text": [
      "\n",
      "\n",
      "\n",
      "<class 'pandas.core.frame.DataFrame'>\n",
      "RangeIndex: 28 entries, 0 to 27\n",
      "Data columns (total 3 columns):\n",
      "source    28 non-null object\n",
      "day       28 non-null object\n",
      "cost      28 non-null float64\n",
      "dtypes: float64(1), object(2)\n",
      "memory usage: 800.0+ bytes\n",
      "\n",
      "\n",
      "\n",
      "Количество пропусков в столбце source : 0.0 %\n",
      "Количество пропусков в столбце day : 0.0 %\n",
      "Количество пропусков в столбце cost : 0.0 %\n",
      "В датасете обнаружено 0 дубликатов\n"
     ]
    }
   ],
   "source": [
    "# Посмотрим на датасет ad_costs\n",
    "dataframe_info(ad_costs.columns, ad_costs)"
   ]
  },
  {
   "cell_type": "code",
   "execution_count": 8,
   "metadata": {},
   "outputs": [
    {
     "data": {
      "text/html": [
       "<div>\n",
       "<style scoped>\n",
       "    .dataframe tbody tr th:only-of-type {\n",
       "        vertical-align: middle;\n",
       "    }\n",
       "\n",
       "    .dataframe tbody tr th {\n",
       "        vertical-align: top;\n",
       "    }\n",
       "\n",
       "    .dataframe thead th {\n",
       "        text-align: right;\n",
       "    }\n",
       "</style>\n",
       "<table border=\"1\" class=\"dataframe\">\n",
       "  <thead>\n",
       "    <tr style=\"text-align: right;\">\n",
       "      <th></th>\n",
       "      <th>source</th>\n",
       "      <th>first_day</th>\n",
       "      <th>cost</th>\n",
       "    </tr>\n",
       "  </thead>\n",
       "  <tbody>\n",
       "    <tr>\n",
       "      <td>22</td>\n",
       "      <td>youtube_channel_reklama</td>\n",
       "      <td>2020-05-04</td>\n",
       "      <td>259.073224</td>\n",
       "    </tr>\n",
       "    <tr>\n",
       "      <td>0</td>\n",
       "      <td>facebook_ads</td>\n",
       "      <td>2020-05-03</td>\n",
       "      <td>935.882786</td>\n",
       "    </tr>\n",
       "    <tr>\n",
       "      <td>11</td>\n",
       "      <td>instagram_new_adverts</td>\n",
       "      <td>2020-05-07</td>\n",
       "      <td>109.915254</td>\n",
       "    </tr>\n",
       "    <tr>\n",
       "      <td>4</td>\n",
       "      <td>facebook_ads</td>\n",
       "      <td>2020-05-07</td>\n",
       "      <td>111.766796</td>\n",
       "    </tr>\n",
       "    <tr>\n",
       "      <td>17</td>\n",
       "      <td>yandex_direct</td>\n",
       "      <td>2020-05-06</td>\n",
       "      <td>180.917099</td>\n",
       "    </tr>\n",
       "  </tbody>\n",
       "</table>\n",
       "</div>"
      ],
      "text/plain": [
       "                     source  first_day        cost\n",
       "22  youtube_channel_reklama 2020-05-04  259.073224\n",
       "0              facebook_ads 2020-05-03  935.882786\n",
       "11    instagram_new_adverts 2020-05-07  109.915254\n",
       "4              facebook_ads 2020-05-07  111.766796\n",
       "17            yandex_direct 2020-05-06  180.917099"
      ]
     },
     "metadata": {},
     "output_type": "display_data"
    }
   ],
   "source": [
    "# Переименуем столбец (на будущее) и приведем формат object в формат datetime64\n",
    "ad_costs = ad_costs.rename({'day': 'first_day'}, axis='columns')\n",
    "ad_costs['first_day'] = pd.to_datetime(\n",
    "    ad_costs['first_day'], format='%Y-%m-%d')\n",
    "display(ad_costs.sample(5))"
   ]
  },
  {
   "cell_type": "code",
   "execution_count": 9,
   "metadata": {},
   "outputs": [
    {
     "data": {
      "text/html": [
       "<div>\n",
       "<style scoped>\n",
       "    .dataframe tbody tr th:only-of-type {\n",
       "        vertical-align: middle;\n",
       "    }\n",
       "\n",
       "    .dataframe tbody tr th {\n",
       "        vertical-align: top;\n",
       "    }\n",
       "\n",
       "    .dataframe thead th {\n",
       "        text-align: right;\n",
       "    }\n",
       "</style>\n",
       "<table border=\"1\" class=\"dataframe\">\n",
       "  <thead>\n",
       "    <tr style=\"text-align: right;\">\n",
       "      <th></th>\n",
       "      <th>user_id</th>\n",
       "      <th>source</th>\n",
       "    </tr>\n",
       "  </thead>\n",
       "  <tbody>\n",
       "    <tr>\n",
       "      <td>13504</td>\n",
       "      <td>fe8247d6-4e01-424c-a37e-31978fe9dbb8</td>\n",
       "      <td>facebook_ads</td>\n",
       "    </tr>\n",
       "    <tr>\n",
       "      <td>11848</td>\n",
       "      <td>df952ed7-949f-4117-9755-b60e36c0f759</td>\n",
       "      <td>yandex_direct</td>\n",
       "    </tr>\n",
       "    <tr>\n",
       "      <td>4082</td>\n",
       "      <td>4b2b16f3-6216-40d9-975d-5062e1fab5b9</td>\n",
       "      <td>instagram_new_adverts</td>\n",
       "    </tr>\n",
       "    <tr>\n",
       "      <td>3077</td>\n",
       "      <td>383eaffd-ed08-4d67-bb9a-4ec94400655a</td>\n",
       "      <td>instagram_new_adverts</td>\n",
       "    </tr>\n",
       "    <tr>\n",
       "      <td>7322</td>\n",
       "      <td>88bd964d-8b6b-4216-b132-e3708b1f1b83</td>\n",
       "      <td>facebook_ads</td>\n",
       "    </tr>\n",
       "  </tbody>\n",
       "</table>\n",
       "</div>"
      ],
      "text/plain": [
       "                                    user_id                 source\n",
       "13504  fe8247d6-4e01-424c-a37e-31978fe9dbb8           facebook_ads\n",
       "11848  df952ed7-949f-4117-9755-b60e36c0f759          yandex_direct\n",
       "4082   4b2b16f3-6216-40d9-975d-5062e1fab5b9  instagram_new_adverts\n",
       "3077   383eaffd-ed08-4d67-bb9a-4ec94400655a  instagram_new_adverts\n",
       "7322   88bd964d-8b6b-4216-b132-e3708b1f1b83           facebook_ads"
      ]
     },
     "metadata": {},
     "output_type": "display_data"
    },
    {
     "name": "stdout",
     "output_type": "stream",
     "text": [
      "\n",
      "\n",
      "\n",
      "<class 'pandas.core.frame.DataFrame'>\n",
      "RangeIndex: 13576 entries, 0 to 13575\n",
      "Data columns (total 2 columns):\n",
      "user_id    13576 non-null object\n",
      "source     13576 non-null object\n",
      "dtypes: object(2)\n",
      "memory usage: 212.2+ KB\n",
      "\n",
      "\n",
      "\n",
      "Количество пропусков в столбце user_id : 0.0 %\n",
      "Количество пропусков в столбце source : 0.0 %\n",
      "В датасете обнаружено 0 дубликатов\n"
     ]
    }
   ],
   "source": [
    "# Посмотрим на датасет user_source\n",
    "dataframe_info(user_source.columns, user_source)"
   ]
  },
  {
   "cell_type": "markdown",
   "metadata": {},
   "source": [
    "#### Промежуточный вывод: загружено 3 датасета и изучены их свойства. Обнаружены следующие проблемы: пропуски и дубликаты в датасете game_actions, и формат даты в двух датасетах записан как object. Формат даты установлен datetime64, пропуски и дубликаты обработаны ниже."
   ]
  },
  {
   "cell_type": "markdown",
   "metadata": {},
   "source": [
    "Поработаем с датасетом game_actions"
   ]
  },
  {
   "cell_type": "markdown",
   "metadata": {},
   "source": [
    "Поскольку столбец building_type не важен для решения поставленной задачи, то и пропуски заполнять не стоит, а можно его спокойно удалить. Ненулевые значение в столбце project_type помогают нам выделить строителей-пве'шников. "
   ]
  },
  {
   "cell_type": "code",
   "execution_count": 10,
   "metadata": {},
   "outputs": [
    {
     "data": {
      "text/plain": [
       "satellite_orbital_assembly    1866\n",
       "Name: project_type, dtype: int64"
      ]
     },
     "metadata": {},
     "output_type": "display_data"
    }
   ],
   "source": [
    "event_project = game_actions[game_actions['event'] == 'project']\n",
    "display(event_project['project_type'].value_counts())"
   ]
  },
  {
   "cell_type": "markdown",
   "metadata": {},
   "source": [
    "Разделим всех игроков на строителей(pve), воинов(pvp) и \"лузеров\" (не закончили первый уровень). "
   ]
  },
  {
   "cell_type": "code",
   "execution_count": 11,
   "metadata": {},
   "outputs": [
    {
     "data": {
      "text/html": [
       "<div>\n",
       "<style scoped>\n",
       "    .dataframe tbody tr th:only-of-type {\n",
       "        vertical-align: middle;\n",
       "    }\n",
       "\n",
       "    .dataframe tbody tr th {\n",
       "        vertical-align: top;\n",
       "    }\n",
       "\n",
       "    .dataframe thead th {\n",
       "        text-align: right;\n",
       "    }\n",
       "</style>\n",
       "<table border=\"1\" class=\"dataframe\">\n",
       "  <thead>\n",
       "    <tr style=\"text-align: right;\">\n",
       "      <th></th>\n",
       "      <th>groups</th>\n",
       "    </tr>\n",
       "    <tr>\n",
       "      <th>user_id</th>\n",
       "      <th></th>\n",
       "    </tr>\n",
       "  </thead>\n",
       "  <tbody>\n",
       "    <tr>\n",
       "      <td>0001f83c-c6ac-4621-b7f0-8a28b283ac30</td>\n",
       "      <td>looser</td>\n",
       "    </tr>\n",
       "    <tr>\n",
       "      <td>00151b4f-ba38-44a8-a650-d7cf130a0105</td>\n",
       "      <td>looser</td>\n",
       "    </tr>\n",
       "    <tr>\n",
       "      <td>001aaea6-3d14-43f1-8ca8-7f48820f17aa</td>\n",
       "      <td>looser</td>\n",
       "    </tr>\n",
       "    <tr>\n",
       "      <td>001d39dc-366c-4021-9604-6a3b9ff01e25</td>\n",
       "      <td>warrior</td>\n",
       "    </tr>\n",
       "    <tr>\n",
       "      <td>002f508f-67b6-479f-814b-b05f00d4e995</td>\n",
       "      <td>looser</td>\n",
       "    </tr>\n",
       "    <tr>\n",
       "      <td>...</td>\n",
       "      <td>...</td>\n",
       "    </tr>\n",
       "    <tr>\n",
       "      <td>ffef4fed-164c-40e1-bde1-3980f76d0fb5</td>\n",
       "      <td>warrior</td>\n",
       "    </tr>\n",
       "    <tr>\n",
       "      <td>fffab3da-da0e-4e30-ae62-10d0a2e24a4e</td>\n",
       "      <td>looser</td>\n",
       "    </tr>\n",
       "    <tr>\n",
       "      <td>fffb626c-5ab6-47c9-8113-2062a2f18494</td>\n",
       "      <td>warrior</td>\n",
       "    </tr>\n",
       "    <tr>\n",
       "      <td>ffff194a-56b7-4c12-860d-3485242ae7f5</td>\n",
       "      <td>looser</td>\n",
       "    </tr>\n",
       "    <tr>\n",
       "      <td>ffff69cc-fec1-4fd3-9f98-93be1112a6b8</td>\n",
       "      <td>builder</td>\n",
       "    </tr>\n",
       "  </tbody>\n",
       "</table>\n",
       "<p>13576 rows × 1 columns</p>\n",
       "</div>"
      ],
      "text/plain": [
       "                                       groups\n",
       "user_id                                      \n",
       "0001f83c-c6ac-4621-b7f0-8a28b283ac30   looser\n",
       "00151b4f-ba38-44a8-a650-d7cf130a0105   looser\n",
       "001aaea6-3d14-43f1-8ca8-7f48820f17aa   looser\n",
       "001d39dc-366c-4021-9604-6a3b9ff01e25  warrior\n",
       "002f508f-67b6-479f-814b-b05f00d4e995   looser\n",
       "...                                       ...\n",
       "ffef4fed-164c-40e1-bde1-3980f76d0fb5  warrior\n",
       "fffab3da-da0e-4e30-ae62-10d0a2e24a4e   looser\n",
       "fffb626c-5ab6-47c9-8113-2062a2f18494  warrior\n",
       "ffff194a-56b7-4c12-860d-3485242ae7f5   looser\n",
       "ffff69cc-fec1-4fd3-9f98-93be1112a6b8  builder\n",
       "\n",
       "[13576 rows x 1 columns]"
      ]
     },
     "metadata": {},
     "output_type": "display_data"
    }
   ],
   "source": [
    "groups_query = game_actions.groupby('user_id').agg({'event': 'nunique'})\n",
    "groups_query['event'] = groups_query['event'].replace(\n",
    "    1, 'looser').replace(2, 'warrior').replace(3, 'builder')\n",
    "groups_query = groups_query.rename({'event': 'groups'}, axis=1)\n",
    "display(groups_query)"
   ]
  },
  {
   "cell_type": "markdown",
   "metadata": {},
   "source": [
    "Комментарий для понимания:\n",
    "\n",
    "    1. Строителями (builder) являются игроки имеющие 3 уникальных действия в столбце event(building, project, finished_stage_1);\n",
    "    2. Воинами (warrior) являются игроки без уникального действия project в столбце event;\n",
    "    3. \"Лузерами\"(looser) являются игроки не завершившие первый уровень"
   ]
  },
  {
   "cell_type": "code",
   "execution_count": 12,
   "metadata": {},
   "outputs": [
    {
     "data": {
      "text/html": [
       "<div>\n",
       "<style scoped>\n",
       "    .dataframe tbody tr th:only-of-type {\n",
       "        vertical-align: middle;\n",
       "    }\n",
       "\n",
       "    .dataframe tbody tr th {\n",
       "        vertical-align: top;\n",
       "    }\n",
       "\n",
       "    .dataframe thead th {\n",
       "        text-align: right;\n",
       "    }\n",
       "</style>\n",
       "<table border=\"1\" class=\"dataframe\">\n",
       "  <thead>\n",
       "    <tr style=\"text-align: right;\">\n",
       "      <th></th>\n",
       "      <th>event_datetime</th>\n",
       "      <th>event</th>\n",
       "      <th>user_id</th>\n",
       "      <th>groups</th>\n",
       "    </tr>\n",
       "  </thead>\n",
       "  <tbody>\n",
       "    <tr>\n",
       "      <td>0</td>\n",
       "      <td>2020-05-04 00:00:01</td>\n",
       "      <td>building</td>\n",
       "      <td>55e92310-cb8e-4754-b622-597e124b03de</td>\n",
       "      <td>looser</td>\n",
       "    </tr>\n",
       "    <tr>\n",
       "      <td>1</td>\n",
       "      <td>2020-05-05 05:20:15</td>\n",
       "      <td>building</td>\n",
       "      <td>55e92310-cb8e-4754-b622-597e124b03de</td>\n",
       "      <td>looser</td>\n",
       "    </tr>\n",
       "    <tr>\n",
       "      <td>2</td>\n",
       "      <td>2020-05-05 19:24:02</td>\n",
       "      <td>building</td>\n",
       "      <td>55e92310-cb8e-4754-b622-597e124b03de</td>\n",
       "      <td>looser</td>\n",
       "    </tr>\n",
       "    <tr>\n",
       "      <td>3</td>\n",
       "      <td>2020-05-05 20:59:19</td>\n",
       "      <td>building</td>\n",
       "      <td>55e92310-cb8e-4754-b622-597e124b03de</td>\n",
       "      <td>looser</td>\n",
       "    </tr>\n",
       "    <tr>\n",
       "      <td>4</td>\n",
       "      <td>2020-05-06 00:52:56</td>\n",
       "      <td>building</td>\n",
       "      <td>55e92310-cb8e-4754-b622-597e124b03de</td>\n",
       "      <td>looser</td>\n",
       "    </tr>\n",
       "    <tr>\n",
       "      <td>...</td>\n",
       "      <td>...</td>\n",
       "      <td>...</td>\n",
       "      <td>...</td>\n",
       "      <td>...</td>\n",
       "    </tr>\n",
       "    <tr>\n",
       "      <td>135635</td>\n",
       "      <td>2020-05-13 23:56:39</td>\n",
       "      <td>building</td>\n",
       "      <td>cafd1b8b-507b-49ae-abf0-89fe863a8b03</td>\n",
       "      <td>looser</td>\n",
       "    </tr>\n",
       "    <tr>\n",
       "      <td>135636</td>\n",
       "      <td>2020-05-18 00:23:28</td>\n",
       "      <td>building</td>\n",
       "      <td>cafd1b8b-507b-49ae-abf0-89fe863a8b03</td>\n",
       "      <td>looser</td>\n",
       "    </tr>\n",
       "    <tr>\n",
       "      <td>135637</td>\n",
       "      <td>2020-05-10 23:59:52</td>\n",
       "      <td>building</td>\n",
       "      <td>bdc53e19-462a-4dc3-8b55-b4a34278af6a</td>\n",
       "      <td>looser</td>\n",
       "    </tr>\n",
       "    <tr>\n",
       "      <td>135638</td>\n",
       "      <td>2020-05-13 08:11:19</td>\n",
       "      <td>building</td>\n",
       "      <td>bdc53e19-462a-4dc3-8b55-b4a34278af6a</td>\n",
       "      <td>looser</td>\n",
       "    </tr>\n",
       "    <tr>\n",
       "      <td>135639</td>\n",
       "      <td>2020-05-18 11:11:11</td>\n",
       "      <td>building</td>\n",
       "      <td>bdc53e19-462a-4dc3-8b55-b4a34278af6a</td>\n",
       "      <td>looser</td>\n",
       "    </tr>\n",
       "  </tbody>\n",
       "</table>\n",
       "<p>135640 rows × 4 columns</p>\n",
       "</div>"
      ],
      "text/plain": [
       "             event_datetime     event                               user_id  \\\n",
       "0       2020-05-04 00:00:01  building  55e92310-cb8e-4754-b622-597e124b03de   \n",
       "1       2020-05-05 05:20:15  building  55e92310-cb8e-4754-b622-597e124b03de   \n",
       "2       2020-05-05 19:24:02  building  55e92310-cb8e-4754-b622-597e124b03de   \n",
       "3       2020-05-05 20:59:19  building  55e92310-cb8e-4754-b622-597e124b03de   \n",
       "4       2020-05-06 00:52:56  building  55e92310-cb8e-4754-b622-597e124b03de   \n",
       "...                     ...       ...                                   ...   \n",
       "135635  2020-05-13 23:56:39  building  cafd1b8b-507b-49ae-abf0-89fe863a8b03   \n",
       "135636  2020-05-18 00:23:28  building  cafd1b8b-507b-49ae-abf0-89fe863a8b03   \n",
       "135637  2020-05-10 23:59:52  building  bdc53e19-462a-4dc3-8b55-b4a34278af6a   \n",
       "135638  2020-05-13 08:11:19  building  bdc53e19-462a-4dc3-8b55-b4a34278af6a   \n",
       "135639  2020-05-18 11:11:11  building  bdc53e19-462a-4dc3-8b55-b4a34278af6a   \n",
       "\n",
       "        groups  \n",
       "0       looser  \n",
       "1       looser  \n",
       "2       looser  \n",
       "3       looser  \n",
       "4       looser  \n",
       "...        ...  \n",
       "135635  looser  \n",
       "135636  looser  \n",
       "135637  looser  \n",
       "135638  looser  \n",
       "135639  looser  \n",
       "\n",
       "[135640 rows x 4 columns]"
      ]
     },
     "metadata": {},
     "output_type": "display_data"
    }
   ],
   "source": [
    "# Обновим датасет game_actions\n",
    "game_actions = game_actions.merge(groups_query, on='user_id')\n",
    "game_actions = game_actions.drop(['building_type', 'project_type'], axis=1)\n",
    "display(game_actions)"
   ]
  },
  {
   "cell_type": "code",
   "execution_count": 13,
   "metadata": {},
   "outputs": [],
   "source": [
    "game_actions = game_actions.drop_duplicates()"
   ]
  },
  {
   "cell_type": "code",
   "execution_count": 14,
   "metadata": {},
   "outputs": [],
   "source": [
    "game_actions['event_datetime'] = pd.to_datetime(\n",
    "    game_actions['event_datetime'], format='%Y-%m-%dT%H:%M:%S')"
   ]
  },
  {
   "cell_type": "code",
   "execution_count": 15,
   "metadata": {},
   "outputs": [
    {
     "name": "stdout",
     "output_type": "stream",
     "text": [
      "<class 'pandas.core.frame.DataFrame'>\n",
      "Int64Index: 135639 entries, 0 to 135639\n",
      "Data columns (total 4 columns):\n",
      "event_datetime    135639 non-null datetime64[ns]\n",
      "event             135639 non-null object\n",
      "user_id           135639 non-null object\n",
      "groups            135639 non-null object\n",
      "dtypes: datetime64[ns](1), object(3)\n",
      "memory usage: 5.2+ MB\n"
     ]
    }
   ],
   "source": [
    "game_actions.info()"
   ]
  },
  {
   "cell_type": "markdown",
   "metadata": {},
   "source": [
    "#### Промежуточный вывод: получен \"чистый\" датасет game_actions без пропусков и дубликатов формат даты изменен с object на datetime64. В датасете user_source проблем не обнаружено. В датасете ad_costs для столбца first_day тип данных изменен с object на datetime64."
   ]
  },
  {
   "cell_type": "markdown",
   "metadata": {},
   "source": [
    "### <a class=\"anchor\" id=\"num3\">[Шаг 3. Исследовательский анализ данных](#num0)</a>"
   ]
  },
  {
   "cell_type": "code",
   "execution_count": 16,
   "metadata": {},
   "outputs": [
    {
     "data": {
      "text/html": [
       "<div>\n",
       "<style scoped>\n",
       "    .dataframe tbody tr th:only-of-type {\n",
       "        vertical-align: middle;\n",
       "    }\n",
       "\n",
       "    .dataframe tbody tr th {\n",
       "        vertical-align: top;\n",
       "    }\n",
       "\n",
       "    .dataframe thead th {\n",
       "        text-align: right;\n",
       "    }\n",
       "</style>\n",
       "<table border=\"1\" class=\"dataframe\">\n",
       "  <thead>\n",
       "    <tr style=\"text-align: right;\">\n",
       "      <th></th>\n",
       "      <th>event_datetime</th>\n",
       "      <th>event</th>\n",
       "      <th>user_id</th>\n",
       "      <th>groups</th>\n",
       "      <th>source</th>\n",
       "    </tr>\n",
       "  </thead>\n",
       "  <tbody>\n",
       "    <tr>\n",
       "      <td>0</td>\n",
       "      <td>2020-05-04 00:00:01</td>\n",
       "      <td>building</td>\n",
       "      <td>55e92310-cb8e-4754-b622-597e124b03de</td>\n",
       "      <td>looser</td>\n",
       "      <td>youtube_channel_reklama</td>\n",
       "    </tr>\n",
       "    <tr>\n",
       "      <td>1</td>\n",
       "      <td>2020-05-05 05:20:15</td>\n",
       "      <td>building</td>\n",
       "      <td>55e92310-cb8e-4754-b622-597e124b03de</td>\n",
       "      <td>looser</td>\n",
       "      <td>youtube_channel_reklama</td>\n",
       "    </tr>\n",
       "    <tr>\n",
       "      <td>2</td>\n",
       "      <td>2020-05-05 19:24:02</td>\n",
       "      <td>building</td>\n",
       "      <td>55e92310-cb8e-4754-b622-597e124b03de</td>\n",
       "      <td>looser</td>\n",
       "      <td>youtube_channel_reklama</td>\n",
       "    </tr>\n",
       "    <tr>\n",
       "      <td>3</td>\n",
       "      <td>2020-05-05 20:59:19</td>\n",
       "      <td>building</td>\n",
       "      <td>55e92310-cb8e-4754-b622-597e124b03de</td>\n",
       "      <td>looser</td>\n",
       "      <td>youtube_channel_reklama</td>\n",
       "    </tr>\n",
       "    <tr>\n",
       "      <td>4</td>\n",
       "      <td>2020-05-06 00:52:56</td>\n",
       "      <td>building</td>\n",
       "      <td>55e92310-cb8e-4754-b622-597e124b03de</td>\n",
       "      <td>looser</td>\n",
       "      <td>youtube_channel_reklama</td>\n",
       "    </tr>\n",
       "    <tr>\n",
       "      <td>...</td>\n",
       "      <td>...</td>\n",
       "      <td>...</td>\n",
       "      <td>...</td>\n",
       "      <td>...</td>\n",
       "      <td>...</td>\n",
       "    </tr>\n",
       "    <tr>\n",
       "      <td>135634</td>\n",
       "      <td>2020-05-13 23:56:39</td>\n",
       "      <td>building</td>\n",
       "      <td>cafd1b8b-507b-49ae-abf0-89fe863a8b03</td>\n",
       "      <td>looser</td>\n",
       "      <td>facebook_ads</td>\n",
       "    </tr>\n",
       "    <tr>\n",
       "      <td>135635</td>\n",
       "      <td>2020-05-18 00:23:28</td>\n",
       "      <td>building</td>\n",
       "      <td>cafd1b8b-507b-49ae-abf0-89fe863a8b03</td>\n",
       "      <td>looser</td>\n",
       "      <td>facebook_ads</td>\n",
       "    </tr>\n",
       "    <tr>\n",
       "      <td>135636</td>\n",
       "      <td>2020-05-10 23:59:52</td>\n",
       "      <td>building</td>\n",
       "      <td>bdc53e19-462a-4dc3-8b55-b4a34278af6a</td>\n",
       "      <td>looser</td>\n",
       "      <td>youtube_channel_reklama</td>\n",
       "    </tr>\n",
       "    <tr>\n",
       "      <td>135637</td>\n",
       "      <td>2020-05-13 08:11:19</td>\n",
       "      <td>building</td>\n",
       "      <td>bdc53e19-462a-4dc3-8b55-b4a34278af6a</td>\n",
       "      <td>looser</td>\n",
       "      <td>youtube_channel_reklama</td>\n",
       "    </tr>\n",
       "    <tr>\n",
       "      <td>135638</td>\n",
       "      <td>2020-05-18 11:11:11</td>\n",
       "      <td>building</td>\n",
       "      <td>bdc53e19-462a-4dc3-8b55-b4a34278af6a</td>\n",
       "      <td>looser</td>\n",
       "      <td>youtube_channel_reklama</td>\n",
       "    </tr>\n",
       "  </tbody>\n",
       "</table>\n",
       "<p>135639 rows × 5 columns</p>\n",
       "</div>"
      ],
      "text/plain": [
       "            event_datetime     event                               user_id  \\\n",
       "0      2020-05-04 00:00:01  building  55e92310-cb8e-4754-b622-597e124b03de   \n",
       "1      2020-05-05 05:20:15  building  55e92310-cb8e-4754-b622-597e124b03de   \n",
       "2      2020-05-05 19:24:02  building  55e92310-cb8e-4754-b622-597e124b03de   \n",
       "3      2020-05-05 20:59:19  building  55e92310-cb8e-4754-b622-597e124b03de   \n",
       "4      2020-05-06 00:52:56  building  55e92310-cb8e-4754-b622-597e124b03de   \n",
       "...                    ...       ...                                   ...   \n",
       "135634 2020-05-13 23:56:39  building  cafd1b8b-507b-49ae-abf0-89fe863a8b03   \n",
       "135635 2020-05-18 00:23:28  building  cafd1b8b-507b-49ae-abf0-89fe863a8b03   \n",
       "135636 2020-05-10 23:59:52  building  bdc53e19-462a-4dc3-8b55-b4a34278af6a   \n",
       "135637 2020-05-13 08:11:19  building  bdc53e19-462a-4dc3-8b55-b4a34278af6a   \n",
       "135638 2020-05-18 11:11:11  building  bdc53e19-462a-4dc3-8b55-b4a34278af6a   \n",
       "\n",
       "        groups                   source  \n",
       "0       looser  youtube_channel_reklama  \n",
       "1       looser  youtube_channel_reklama  \n",
       "2       looser  youtube_channel_reklama  \n",
       "3       looser  youtube_channel_reklama  \n",
       "4       looser  youtube_channel_reklama  \n",
       "...        ...                      ...  \n",
       "135634  looser             facebook_ads  \n",
       "135635  looser             facebook_ads  \n",
       "135636  looser  youtube_channel_reklama  \n",
       "135637  looser  youtube_channel_reklama  \n",
       "135638  looser  youtube_channel_reklama  \n",
       "\n",
       "[135639 rows x 5 columns]"
      ]
     },
     "metadata": {},
     "output_type": "display_data"
    }
   ],
   "source": [
    "# Объединим таблички game_actions и user_source для дальнейшей работы\n",
    "final_data = game_actions.merge(user_source, on='user_id')\n",
    "display(final_data)"
   ]
  },
  {
   "cell_type": "markdown",
   "metadata": {},
   "source": [
    "#### 1)  Посчитать конверсию игроков завершивших первый уровень в разрезе pve/pvp"
   ]
  },
  {
   "cell_type": "code",
   "execution_count": 17,
   "metadata": {},
   "outputs": [
    {
     "data": {
      "text/plain": [
       "'Общее количество игроков равно 13576'"
      ]
     },
     "metadata": {},
     "output_type": "display_data"
    }
   ],
   "source": [
    "# Общее количество игроков\n",
    "total_players = final_data['user_id'].nunique()\n",
    "display('Общее количество игроков равно {}'.format(total_players))"
   ]
  },
  {
   "cell_type": "code",
   "execution_count": 18,
   "metadata": {},
   "outputs": [
    {
     "name": "stdout",
     "output_type": "stream",
     "text": [
      "Количество игроков, завершивших 1 уровень составляет 5817\n"
     ]
    }
   ],
   "source": [
    "# Количество игроков завершивших первый уровень\n",
    "level_1_win = final_data[final_data['groups'] != 'looser']['user_id'].nunique()\n",
    "print('Количество игроков, завершивших 1 уровень составляет {}'.format(level_1_win))"
   ]
  },
  {
   "cell_type": "code",
   "execution_count": 19,
   "metadata": {},
   "outputs": [
    {
     "name": "stdout",
     "output_type": "stream",
     "text": [
      "Конверсия игроков из новичка в прошедшего 1 уровень составляет 43.0 %\n"
     ]
    }
   ],
   "source": [
    "# Конверсия общего числа игроков\n",
    "conversion = np.round(((level_1_win / total_players)*100))\n",
    "print('Конверсия игроков из новичка в прошедшего 1 уровень составляет {} %'.format(conversion))"
   ]
  },
  {
   "cell_type": "code",
   "execution_count": 20,
   "metadata": {},
   "outputs": [
    {
     "name": "stdout",
     "output_type": "stream",
     "text": [
      "Конверсия успешных pve-игроков составляет 14.0 %\n",
      "Конверсия успешных pvp-игроков составляет 29.0 %\n"
     ]
    }
   ],
   "source": [
    "# Конверсия игроков в разрезе pve/pvp\n",
    "pvp_players = final_data[final_data['groups']\n",
    "                         == 'warrior']['user_id'].nunique()\n",
    "pve_players = final_data[final_data['groups']\n",
    "                         == 'builder']['user_id'].nunique()\n",
    "\n",
    "pve_conv = np.round((pve_players / total_players)*100)\n",
    "pvp_conv = np.round((pvp_players / total_players)*100)\n",
    "\n",
    "print('Конверсия успешных pve-игроков составляет {} %'.format(pve_conv))\n",
    "print('Конверсия успешных pvp-игроков составляет {} %'.format(pvp_conv))"
   ]
  },
  {
   "cell_type": "code",
   "execution_count": 21,
   "metadata": {},
   "outputs": [],
   "source": [
    "# Создадим данные для визуализации\n",
    "vis1 = final_data.groupby('groups')['user_id'].nunique().reset_index()\n",
    "vis2 = vis1[vis1['groups'] != 'looser']\n",
    "\n",
    "group_dict = {'builder': 'строитель',\n",
    "              'warrior': 'воин',\n",
    "              'looser': 'лузер'}"
   ]
  },
  {
   "cell_type": "code",
   "execution_count": 22,
   "metadata": {
    "scrolled": false
   },
   "outputs": [
    {
     "data": {
      "image/png": "[encoded data removed]",
      "text/plain": [
       "<Figure size 1080x1080 with 1 Axes>"
      ]
     },
     "metadata": {},
     "output_type": "display_data"
    }
   ],
   "source": [
    "# Построим общее соотношение всех игроков\n",
    "plt.figure(figsize=(15, 15))\n",
    "sns.set_style('darkgrid')\n",
    "plt.pie(vis1['user_id'],\n",
    "        labels=None,\n",
    "        autopct='%1.1f%%',\n",
    "        textprops={'fontsize': 16}\n",
    "        )\n",
    "plt.legend(vis1['groups'].map(group_dict), fontsize=14)\n",
    "plt.title('Общее количество игроков по категориям', fontsize=20)\n",
    "#plt.savefig('total_categories.png', dpi=200, bbox_inches='tight')\n",
    "plt.show()"
   ]
  },
  {
   "cell_type": "code",
   "execution_count": 23,
   "metadata": {},
   "outputs": [
    {
     "data": {
      "image/png": "[encoded data removed]",
      "text/plain": [
       "<Figure size 1080x1080 with 1 Axes>"
      ]
     },
     "metadata": {},
     "output_type": "display_data"
    }
   ],
   "source": [
    "# Построим соотношение воинов к строителям\n",
    "plt.figure(figsize=(15, 15))\n",
    "plt.pie(vis2['user_id'],\n",
    "        labels=None,\n",
    "        autopct='%1.1f%%',\n",
    "        textprops={'fontsize': 16}\n",
    "        )\n",
    "plt.legend(vis2['groups'].map(group_dict), fontsize=14)\n",
    "plt.title(\n",
    "    'Соотношение игроков, завершивших 1-й уровень в разрезе pvp/pve', fontsize=20)\n",
    "#plt.savefig('pvp_pve.png', dpi=200, bbox_inches='tight')\n",
    "plt.show()"
   ]
  },
  {
   "cell_type": "markdown",
   "metadata": {},
   "source": [
    "#### Промежуточный вывод: Конверсия из новичков в игроков, завершивших 1-й уровень составляет 43%. Из них pvp-игроков примерно в 2 раза больше. Предположительно повысить конверсию можно введением обучения в игру."
   ]
  },
  {
   "cell_type": "markdown",
   "metadata": {},
   "source": [
    "#### 2) Изучить количество игроков привлеченных каждым источником рекламы и среднюю стоимость их привлечения "
   ]
  },
  {
   "cell_type": "code",
   "execution_count": 24,
   "metadata": {},
   "outputs": [
    {
     "data": {
      "text/html": [
       "<div>\n",
       "<style scoped>\n",
       "    .dataframe tbody tr th:only-of-type {\n",
       "        vertical-align: middle;\n",
       "    }\n",
       "\n",
       "    .dataframe tbody tr th {\n",
       "        vertical-align: top;\n",
       "    }\n",
       "\n",
       "    .dataframe thead th {\n",
       "        text-align: right;\n",
       "    }\n",
       "</style>\n",
       "<table border=\"1\" class=\"dataframe\">\n",
       "  <thead>\n",
       "    <tr style=\"text-align: right;\">\n",
       "      <th></th>\n",
       "      <th>source</th>\n",
       "      <th>user_id</th>\n",
       "    </tr>\n",
       "  </thead>\n",
       "  <tbody>\n",
       "    <tr>\n",
       "      <td>2</td>\n",
       "      <td>yandex_direct</td>\n",
       "      <td>4817</td>\n",
       "    </tr>\n",
       "    <tr>\n",
       "      <td>1</td>\n",
       "      <td>instagram_new_adverts</td>\n",
       "      <td>3347</td>\n",
       "    </tr>\n",
       "    <tr>\n",
       "      <td>0</td>\n",
       "      <td>facebook_ads</td>\n",
       "      <td>2726</td>\n",
       "    </tr>\n",
       "    <tr>\n",
       "      <td>3</td>\n",
       "      <td>youtube_channel_reklama</td>\n",
       "      <td>2686</td>\n",
       "    </tr>\n",
       "  </tbody>\n",
       "</table>\n",
       "</div>"
      ],
      "text/plain": [
       "                    source  user_id\n",
       "2            yandex_direct     4817\n",
       "1    instagram_new_adverts     3347\n",
       "0             facebook_ads     2726\n",
       "3  youtube_channel_reklama     2686"
      ]
     },
     "metadata": {},
     "output_type": "display_data"
    }
   ],
   "source": [
    "users_count_sum = final_data.groupby(\n",
    "    ['source'])['user_id'].nunique().reset_index()\n",
    "display(users_count_sum.sort_values(by='user_id', ascending=False))"
   ]
  },
  {
   "cell_type": "markdown",
   "metadata": {},
   "source": [
    "Наибольшее количество игроков привлечено с помощью Яндекс.Директ, наименьшее - с помощью рекламы с Youtube."
   ]
  },
  {
   "cell_type": "markdown",
   "metadata": {},
   "source": [
    "Посчитаем какой источник рекламы дороже/дешевле всех в абсолютных величинах и среднюю стоимость привлечения игрока из каждого источника"
   ]
  },
  {
   "cell_type": "code",
   "execution_count": 25,
   "metadata": {},
   "outputs": [],
   "source": [
    "ad_costs_grouped = (ad_costs.groupby('source')[\n",
    "                    'cost'].sum().reset_index()).round(2)"
   ]
  },
  {
   "cell_type": "code",
   "execution_count": 26,
   "metadata": {},
   "outputs": [
    {
     "data": {
      "text/html": [
       "<div>\n",
       "<style scoped>\n",
       "    .dataframe tbody tr th:only-of-type {\n",
       "        vertical-align: middle;\n",
       "    }\n",
       "\n",
       "    .dataframe tbody tr th {\n",
       "        vertical-align: top;\n",
       "    }\n",
       "\n",
       "    .dataframe thead th {\n",
       "        text-align: right;\n",
       "    }\n",
       "</style>\n",
       "<table border=\"1\" class=\"dataframe\">\n",
       "  <thead>\n",
       "    <tr style=\"text-align: right;\">\n",
       "      <th></th>\n",
       "      <th>source</th>\n",
       "      <th>cost</th>\n",
       "      <th>user_id</th>\n",
       "      <th>mean</th>\n",
       "    </tr>\n",
       "  </thead>\n",
       "  <tbody>\n",
       "    <tr>\n",
       "      <td>0</td>\n",
       "      <td>facebook_ads</td>\n",
       "      <td>2140.90</td>\n",
       "      <td>2726</td>\n",
       "      <td>0.79</td>\n",
       "    </tr>\n",
       "    <tr>\n",
       "      <td>1</td>\n",
       "      <td>instagram_new_adverts</td>\n",
       "      <td>2161.44</td>\n",
       "      <td>3347</td>\n",
       "      <td>0.65</td>\n",
       "    </tr>\n",
       "    <tr>\n",
       "      <td>2</td>\n",
       "      <td>yandex_direct</td>\n",
       "      <td>2233.11</td>\n",
       "      <td>4817</td>\n",
       "      <td>0.46</td>\n",
       "    </tr>\n",
       "    <tr>\n",
       "      <td>3</td>\n",
       "      <td>youtube_channel_reklama</td>\n",
       "      <td>1068.12</td>\n",
       "      <td>2686</td>\n",
       "      <td>0.40</td>\n",
       "    </tr>\n",
       "  </tbody>\n",
       "</table>\n",
       "</div>"
      ],
      "text/plain": [
       "                    source     cost  user_id  mean\n",
       "0             facebook_ads  2140.90     2726  0.79\n",
       "1    instagram_new_adverts  2161.44     3347  0.65\n",
       "2            yandex_direct  2233.11     4817  0.46\n",
       "3  youtube_channel_reklama  1068.12     2686  0.40"
      ]
     },
     "metadata": {},
     "output_type": "display_data"
    }
   ],
   "source": [
    "mean_costs = pd.merge(ad_costs_grouped, users_count_sum, on='source')\n",
    "mean_costs['mean'] = (mean_costs['cost'] / mean_costs['user_id']).round(2)\n",
    "display(mean_costs)"
   ]
  },
  {
   "cell_type": "code",
   "execution_count": 27,
   "metadata": {},
   "outputs": [
    {
     "data": {
      "image/png": "[encoded data removed]",
      "text/plain": [
       "<Figure size 1728x864 with 3 Axes>"
      ]
     },
     "metadata": {},
     "output_type": "display_data"
    }
   ],
   "source": [
    "# Построим визуализацию\n",
    "fig = plt.figure(figsize=(24, 12))\n",
    "sns.set_style('darkgrid')\n",
    "\n",
    "ax_1 = fig.add_subplot(1, 3, 1)\n",
    "ax1 = sns.barplot(data=mean_costs, x='source', y='cost')\n",
    "ax1.set_xlabel('Источник рекламы', fontsize=16)\n",
    "ax1.set_ylabel('Общая стоимость', fontsize=16)\n",
    "ax1.tick_params(axis='x', which='major', labelsize=14, labelrotation=45)\n",
    "ax1.tick_params(axis='y', which='major', labelsize=14)\n",
    "\n",
    "ax_2 = fig.add_subplot(1, 3, 2)\n",
    "ax2 = sns.barplot(data=mean_costs, x='source', y='user_id')\n",
    "ax2.set_xlabel('Источник рекламы', fontsize=16)\n",
    "ax2.set_ylabel('Количество привлеченных игроков', fontsize=16)\n",
    "ax2.tick_params(axis='x', which='major', labelsize=14, labelrotation=45)\n",
    "ax2.tick_params(axis='y', which='major', labelsize=14)\n",
    "\n",
    "ax_3 = fig.add_subplot(1, 3, 3)\n",
    "ax3 = sns.barplot(data=mean_costs, x='source', y='mean')\n",
    "ax3.set_xlabel('Источник рекламы', fontsize=16)\n",
    "ax3.set_ylabel('Средняя стоимость привлечения игрока', fontsize=16)\n",
    "ax3.tick_params(axis='x', which='major', labelsize=14, labelrotation=45)\n",
    "ax3.tick_params(axis='y', which='major', labelsize=14)\n",
    "\n",
    "#plt.savefig('sources1.png', dpi=200, bbox_inches='tight')\n",
    "plt.show()"
   ]
  },
  {
   "cell_type": "markdown",
   "metadata": {},
   "source": [
    "#### Промежуточный вывод: В абсолютных величинах самым дорогостоящим оказался Яндекс.Директ, но и привлек большее количество игроков. Менее затратным оказалась реклама с Youtube, и с его помощью привлечено меньшее количество игроков. По средней стоимости затрат на привлечение одного игрока лидирует Youtube, Facebook оказался самым дорогим. Яндекс.Директ показал результат не сильно хуже, чем Youtube."
   ]
  },
  {
   "cell_type": "markdown",
   "metadata": {},
   "source": [
    "#### 3) Оценить количество и долю игроков не завершивших первый уровень игры в разрезе источников рекламы."
   ]
  },
  {
   "cell_type": "code",
   "execution_count": 28,
   "metadata": {},
   "outputs": [
    {
     "name": "stdout",
     "output_type": "stream",
     "text": [
      "Количество игроков, не завершивших первый уровень составило 7759\n"
     ]
    },
    {
     "data": {
      "text/html": [
       "<div>\n",
       "<style scoped>\n",
       "    .dataframe tbody tr th:only-of-type {\n",
       "        vertical-align: middle;\n",
       "    }\n",
       "\n",
       "    .dataframe tbody tr th {\n",
       "        vertical-align: top;\n",
       "    }\n",
       "\n",
       "    .dataframe thead th {\n",
       "        text-align: right;\n",
       "    }\n",
       "</style>\n",
       "<table border=\"1\" class=\"dataframe\">\n",
       "  <thead>\n",
       "    <tr style=\"text-align: right;\">\n",
       "      <th></th>\n",
       "      <th>source</th>\n",
       "      <th>cost</th>\n",
       "      <th>user_id</th>\n",
       "      <th>mean</th>\n",
       "      <th>los_count</th>\n",
       "    </tr>\n",
       "  </thead>\n",
       "  <tbody>\n",
       "    <tr>\n",
       "      <td>0</td>\n",
       "      <td>facebook_ads</td>\n",
       "      <td>2140.90</td>\n",
       "      <td>2726</td>\n",
       "      <td>0.79</td>\n",
       "      <td>1576</td>\n",
       "    </tr>\n",
       "    <tr>\n",
       "      <td>1</td>\n",
       "      <td>instagram_new_adverts</td>\n",
       "      <td>2161.44</td>\n",
       "      <td>3347</td>\n",
       "      <td>0.65</td>\n",
       "      <td>1881</td>\n",
       "    </tr>\n",
       "    <tr>\n",
       "      <td>2</td>\n",
       "      <td>yandex_direct</td>\n",
       "      <td>2233.11</td>\n",
       "      <td>4817</td>\n",
       "      <td>0.46</td>\n",
       "      <td>2775</td>\n",
       "    </tr>\n",
       "    <tr>\n",
       "      <td>3</td>\n",
       "      <td>youtube_channel_reklama</td>\n",
       "      <td>1068.12</td>\n",
       "      <td>2686</td>\n",
       "      <td>0.40</td>\n",
       "      <td>1527</td>\n",
       "    </tr>\n",
       "  </tbody>\n",
       "</table>\n",
       "</div>"
      ],
      "text/plain": [
       "                    source     cost  user_id  mean  los_count\n",
       "0             facebook_ads  2140.90     2726  0.79       1576\n",
       "1    instagram_new_adverts  2161.44     3347  0.65       1881\n",
       "2            yandex_direct  2233.11     4817  0.46       2775\n",
       "3  youtube_channel_reklama  1068.12     2686  0.40       1527"
      ]
     },
     "metadata": {},
     "output_type": "display_data"
    }
   ],
   "source": [
    "# Посчитаем количество таких игроков\n",
    "loosers = total_players - level_1_win\n",
    "print('Количество игроков, не завершивших первый уровень составило {}'.format(loosers))\n",
    "\n",
    "# В разрезе рекламных источников\n",
    "loosers_grouped = ((final_data[final_data['groups'] == 'looser'])\n",
    "                   .groupby('source').agg({'user_id': 'nunique'})).reset_index()\n",
    "loosers_grouped = loosers_grouped.rename({'user_id': 'los_count'}, axis=1)\n",
    "\n",
    "mean_costs = mean_costs.merge(loosers_grouped, on='source')\n",
    "display(mean_costs)"
   ]
  },
  {
   "cell_type": "code",
   "execution_count": 29,
   "metadata": {},
   "outputs": [
    {
     "data": {
      "text/html": [
       "<div>\n",
       "<style scoped>\n",
       "    .dataframe tbody tr th:only-of-type {\n",
       "        vertical-align: middle;\n",
       "    }\n",
       "\n",
       "    .dataframe tbody tr th {\n",
       "        vertical-align: top;\n",
       "    }\n",
       "\n",
       "    .dataframe thead th {\n",
       "        text-align: right;\n",
       "    }\n",
       "</style>\n",
       "<table border=\"1\" class=\"dataframe\">\n",
       "  <thead>\n",
       "    <tr style=\"text-align: right;\">\n",
       "      <th></th>\n",
       "      <th>source</th>\n",
       "      <th>cost</th>\n",
       "      <th>user_id</th>\n",
       "      <th>mean</th>\n",
       "      <th>los_count</th>\n",
       "      <th>loose_share</th>\n",
       "    </tr>\n",
       "  </thead>\n",
       "  <tbody>\n",
       "    <tr>\n",
       "      <td>0</td>\n",
       "      <td>facebook_ads</td>\n",
       "      <td>2140.90</td>\n",
       "      <td>2726</td>\n",
       "      <td>0.79</td>\n",
       "      <td>1576</td>\n",
       "      <td>0.58</td>\n",
       "    </tr>\n",
       "    <tr>\n",
       "      <td>1</td>\n",
       "      <td>instagram_new_adverts</td>\n",
       "      <td>2161.44</td>\n",
       "      <td>3347</td>\n",
       "      <td>0.65</td>\n",
       "      <td>1881</td>\n",
       "      <td>0.56</td>\n",
       "    </tr>\n",
       "    <tr>\n",
       "      <td>2</td>\n",
       "      <td>yandex_direct</td>\n",
       "      <td>2233.11</td>\n",
       "      <td>4817</td>\n",
       "      <td>0.46</td>\n",
       "      <td>2775</td>\n",
       "      <td>0.58</td>\n",
       "    </tr>\n",
       "    <tr>\n",
       "      <td>3</td>\n",
       "      <td>youtube_channel_reklama</td>\n",
       "      <td>1068.12</td>\n",
       "      <td>2686</td>\n",
       "      <td>0.40</td>\n",
       "      <td>1527</td>\n",
       "      <td>0.57</td>\n",
       "    </tr>\n",
       "  </tbody>\n",
       "</table>\n",
       "</div>"
      ],
      "text/plain": [
       "                    source     cost  user_id  mean  los_count  loose_share\n",
       "0             facebook_ads  2140.90     2726  0.79       1576         0.58\n",
       "1    instagram_new_adverts  2161.44     3347  0.65       1881         0.56\n",
       "2            yandex_direct  2233.11     4817  0.46       2775         0.58\n",
       "3  youtube_channel_reklama  1068.12     2686  0.40       1527         0.57"
      ]
     },
     "metadata": {},
     "output_type": "display_data"
    }
   ],
   "source": [
    "# Найдем долю игроков-лузеров от общего количества игроков привлеченных рекламой\n",
    "mean_costs['loose_share'] = (\n",
    "    mean_costs['los_count'] / mean_costs['user_id']).round(2)\n",
    "display(mean_costs)"
   ]
  },
  {
   "cell_type": "code",
   "execution_count": 30,
   "metadata": {},
   "outputs": [
    {
     "data": {
      "image/png": "[encoded data removed]",
      "text/plain": [
       "<Figure size 1728x1296 with 1 Axes>"
      ]
     },
     "metadata": {},
     "output_type": "display_data"
    }
   ],
   "source": [
    "# Построим визуализацию\n",
    "plt.figure(figsize=(24, 18))\n",
    "sns.set_style('darkgrid')\n",
    "sns.barplot(data=mean_costs, x='source', y='loose_share')\n",
    "plt.tick_params(axis='both', which='major', labelsize=16)\n",
    "plt.title('Доля игроков, не завершивших первый уровень в разрезе источников рекламы', fontsize=20)\n",
    "plt.xlabel('Источник рекламы', fontsize=20)\n",
    "plt.ylabel('Доля игроков', fontsize=20)\n",
    "#plt.savefig('loosers_sources.png', dpi=200, bbox_inches='tight')\n",
    "plt.show()"
   ]
  },
  {
   "cell_type": "markdown",
   "metadata": {},
   "source": [
    "#### Промежуточный вывод: Доля игроков пришедших из разных источников рекламы примерно одинакова."
   ]
  },
  {
   "cell_type": "markdown",
   "metadata": {},
   "source": [
    "## <a class=\"anchor\" id=\"num4\">[Шаг 4. Анализ влияния источника перехода в игру на поведение пользователя](#num0)</a>"
   ]
  },
  {
   "cell_type": "markdown",
   "metadata": {},
   "source": [
    "#### 1) Методом когортного анализа посчитать время прошедшее от первого дня игры до завершения уровня (с разделением по типу прохождения)"
   ]
  },
  {
   "cell_type": "code",
   "execution_count": 31,
   "metadata": {},
   "outputs": [],
   "source": [
    "# Выделим столбец с днём совершения действия в игре\n",
    "final_data['day'] = final_data['event_datetime'].astype('datetime64[D]')"
   ]
  },
  {
   "cell_type": "code",
   "execution_count": 32,
   "metadata": {},
   "outputs": [],
   "source": [
    "# Выделим столбец с датой, когда игрок начал играть\n",
    "first_day = final_data.groupby('user_id')['day'].min()\n",
    "first_day.name = 'first_day'"
   ]
  },
  {
   "cell_type": "code",
   "execution_count": 33,
   "metadata": {},
   "outputs": [
    {
     "data": {
      "text/plain": [
       "user_id\n",
       "d0cdbe24-0f2c-4f45-92a0-dc96e39072e1   2020-05-04\n",
       "3deadb0e-26f4-4bd7-9a6c-b6f4ac1be865   2020-05-04\n",
       "ad0a37cc-4666-442e-9583-43598366c729   2020-05-06\n",
       "65526dd2-2a0b-4bd6-a5d0-b16edeed11c4   2020-05-07\n",
       "33ebb3af-129f-41b6-8a16-a218b9243648   2020-05-04\n",
       "Name: first_day, dtype: datetime64[ns]"
      ]
     },
     "metadata": {},
     "output_type": "display_data"
    }
   ],
   "source": [
    "display(first_day.sample(5))"
   ]
  },
  {
   "cell_type": "code",
   "execution_count": 34,
   "metadata": {},
   "outputs": [],
   "source": [
    "# Присоединим столбец с датой начала игры к основному датасету\n",
    "final_data = pd.merge(final_data, first_day, on='user_id')"
   ]
  },
  {
   "cell_type": "code",
   "execution_count": 35,
   "metadata": {},
   "outputs": [
    {
     "data": {
      "text/html": [
       "<div>\n",
       "<style scoped>\n",
       "    .dataframe tbody tr th:only-of-type {\n",
       "        vertical-align: middle;\n",
       "    }\n",
       "\n",
       "    .dataframe tbody tr th {\n",
       "        vertical-align: top;\n",
       "    }\n",
       "\n",
       "    .dataframe thead th {\n",
       "        text-align: right;\n",
       "    }\n",
       "</style>\n",
       "<table border=\"1\" class=\"dataframe\">\n",
       "  <thead>\n",
       "    <tr style=\"text-align: right;\">\n",
       "      <th></th>\n",
       "      <th>event_datetime</th>\n",
       "      <th>event</th>\n",
       "      <th>user_id</th>\n",
       "      <th>groups</th>\n",
       "      <th>source</th>\n",
       "      <th>day</th>\n",
       "      <th>first_day</th>\n",
       "    </tr>\n",
       "  </thead>\n",
       "  <tbody>\n",
       "    <tr>\n",
       "      <td>110306</td>\n",
       "      <td>2020-05-11 09:59:42</td>\n",
       "      <td>building</td>\n",
       "      <td>a4279086-89c9-4720-8e19-edd36dbcb234</td>\n",
       "      <td>looser</td>\n",
       "      <td>facebook_ads</td>\n",
       "      <td>2020-05-11</td>\n",
       "      <td>2020-05-06</td>\n",
       "    </tr>\n",
       "    <tr>\n",
       "      <td>82834</td>\n",
       "      <td>2020-05-05 18:59:40</td>\n",
       "      <td>building</td>\n",
       "      <td>d2ca898f-152e-422f-921a-3dcb21be19ca</td>\n",
       "      <td>looser</td>\n",
       "      <td>instagram_new_adverts</td>\n",
       "      <td>2020-05-05</td>\n",
       "      <td>2020-05-05</td>\n",
       "    </tr>\n",
       "    <tr>\n",
       "      <td>16823</td>\n",
       "      <td>2020-05-08 07:57:48</td>\n",
       "      <td>building</td>\n",
       "      <td>08c709b0-2a01-4148-9064-b46e30ca2406</td>\n",
       "      <td>warrior</td>\n",
       "      <td>yandex_direct</td>\n",
       "      <td>2020-05-08</td>\n",
       "      <td>2020-05-04</td>\n",
       "    </tr>\n",
       "    <tr>\n",
       "      <td>117401</td>\n",
       "      <td>2020-05-12 14:16:43</td>\n",
       "      <td>building</td>\n",
       "      <td>1eccbf37-467d-4df7-a2a3-89ee373bbfca</td>\n",
       "      <td>looser</td>\n",
       "      <td>youtube_channel_reklama</td>\n",
       "      <td>2020-05-12</td>\n",
       "      <td>2020-05-07</td>\n",
       "    </tr>\n",
       "    <tr>\n",
       "      <td>6954</td>\n",
       "      <td>2020-05-11 12:27:28</td>\n",
       "      <td>building</td>\n",
       "      <td>ffef4fed-164c-40e1-bde1-3980f76d0fb5</td>\n",
       "      <td>warrior</td>\n",
       "      <td>instagram_new_adverts</td>\n",
       "      <td>2020-05-11</td>\n",
       "      <td>2020-05-04</td>\n",
       "    </tr>\n",
       "  </tbody>\n",
       "</table>\n",
       "</div>"
      ],
      "text/plain": [
       "            event_datetime     event                               user_id  \\\n",
       "110306 2020-05-11 09:59:42  building  a4279086-89c9-4720-8e19-edd36dbcb234   \n",
       "82834  2020-05-05 18:59:40  building  d2ca898f-152e-422f-921a-3dcb21be19ca   \n",
       "16823  2020-05-08 07:57:48  building  08c709b0-2a01-4148-9064-b46e30ca2406   \n",
       "117401 2020-05-12 14:16:43  building  1eccbf37-467d-4df7-a2a3-89ee373bbfca   \n",
       "6954   2020-05-11 12:27:28  building  ffef4fed-164c-40e1-bde1-3980f76d0fb5   \n",
       "\n",
       "         groups                   source        day  first_day  \n",
       "110306   looser             facebook_ads 2020-05-11 2020-05-06  \n",
       "82834    looser    instagram_new_adverts 2020-05-05 2020-05-05  \n",
       "16823   warrior            yandex_direct 2020-05-08 2020-05-04  \n",
       "117401   looser  youtube_channel_reklama 2020-05-12 2020-05-07  \n",
       "6954    warrior    instagram_new_adverts 2020-05-11 2020-05-04  "
      ]
     },
     "metadata": {},
     "output_type": "display_data"
    }
   ],
   "source": [
    "display(final_data.sample(5))"
   ]
  },
  {
   "cell_type": "code",
   "execution_count": 36,
   "metadata": {},
   "outputs": [],
   "source": [
    "# Скачивание датасета для подготовки дашборда\n",
    "#final_data.to_csv(r'C:\\Users\\Torberg\\Documents\\Yandex Projects\\final_project\\dash_data.csv', index=False)"
   ]
  },
  {
   "cell_type": "code",
   "execution_count": 37,
   "metadata": {},
   "outputs": [],
   "source": [
    "# Выделим срез с игроками завершившими первый уровень\n",
    "final_data_query = final_data[final_data['event'] == 'finished_stage_1']"
   ]
  },
  {
   "cell_type": "code",
   "execution_count": 38,
   "metadata": {},
   "outputs": [
    {
     "data": {
      "text/html": [
       "<div>\n",
       "<style scoped>\n",
       "    .dataframe tbody tr th:only-of-type {\n",
       "        vertical-align: middle;\n",
       "    }\n",
       "\n",
       "    .dataframe tbody tr th {\n",
       "        vertical-align: top;\n",
       "    }\n",
       "\n",
       "    .dataframe thead th {\n",
       "        text-align: right;\n",
       "    }\n",
       "</style>\n",
       "<table border=\"1\" class=\"dataframe\">\n",
       "  <thead>\n",
       "    <tr style=\"text-align: right;\">\n",
       "      <th></th>\n",
       "      <th>event_datetime</th>\n",
       "      <th>event</th>\n",
       "      <th>user_id</th>\n",
       "      <th>groups</th>\n",
       "      <th>source</th>\n",
       "      <th>day</th>\n",
       "      <th>first_day</th>\n",
       "    </tr>\n",
       "  </thead>\n",
       "  <tbody>\n",
       "    <tr>\n",
       "      <td>63663</td>\n",
       "      <td>2020-05-15 21:29:53</td>\n",
       "      <td>finished_stage_1</td>\n",
       "      <td>5b5810fb-8c08-48fa-a1b4-36c4f98d7fa7</td>\n",
       "      <td>builder</td>\n",
       "      <td>youtube_channel_reklama</td>\n",
       "      <td>2020-05-15</td>\n",
       "      <td>2020-05-04</td>\n",
       "    </tr>\n",
       "    <tr>\n",
       "      <td>116778</td>\n",
       "      <td>2020-05-16 17:06:47</td>\n",
       "      <td>finished_stage_1</td>\n",
       "      <td>5ebbf925-f813-4c68-bb20-adcbf6bd9c0d</td>\n",
       "      <td>warrior</td>\n",
       "      <td>instagram_new_adverts</td>\n",
       "      <td>2020-05-16</td>\n",
       "      <td>2020-05-07</td>\n",
       "    </tr>\n",
       "    <tr>\n",
       "      <td>49257</td>\n",
       "      <td>2020-05-20 04:16:12</td>\n",
       "      <td>finished_stage_1</td>\n",
       "      <td>101152c2-81ad-4f8b-a9cf-6b8f129832a1</td>\n",
       "      <td>builder</td>\n",
       "      <td>instagram_new_adverts</td>\n",
       "      <td>2020-05-20</td>\n",
       "      <td>2020-05-04</td>\n",
       "    </tr>\n",
       "    <tr>\n",
       "      <td>76224</td>\n",
       "      <td>2020-05-18 09:29:04</td>\n",
       "      <td>finished_stage_1</td>\n",
       "      <td>a31272a4-a637-40d2-a59e-f76ef03c6b4b</td>\n",
       "      <td>warrior</td>\n",
       "      <td>youtube_channel_reklama</td>\n",
       "      <td>2020-05-18</td>\n",
       "      <td>2020-05-05</td>\n",
       "    </tr>\n",
       "    <tr>\n",
       "      <td>128204</td>\n",
       "      <td>2020-05-11 04:47:19</td>\n",
       "      <td>finished_stage_1</td>\n",
       "      <td>6aeb02cb-ad96-4877-9110-b38bfc6f96a8</td>\n",
       "      <td>warrior</td>\n",
       "      <td>facebook_ads</td>\n",
       "      <td>2020-05-11</td>\n",
       "      <td>2020-05-08</td>\n",
       "    </tr>\n",
       "  </tbody>\n",
       "</table>\n",
       "</div>"
      ],
      "text/plain": [
       "            event_datetime             event  \\\n",
       "63663  2020-05-15 21:29:53  finished_stage_1   \n",
       "116778 2020-05-16 17:06:47  finished_stage_1   \n",
       "49257  2020-05-20 04:16:12  finished_stage_1   \n",
       "76224  2020-05-18 09:29:04  finished_stage_1   \n",
       "128204 2020-05-11 04:47:19  finished_stage_1   \n",
       "\n",
       "                                     user_id   groups  \\\n",
       "63663   5b5810fb-8c08-48fa-a1b4-36c4f98d7fa7  builder   \n",
       "116778  5ebbf925-f813-4c68-bb20-adcbf6bd9c0d  warrior   \n",
       "49257   101152c2-81ad-4f8b-a9cf-6b8f129832a1  builder   \n",
       "76224   a31272a4-a637-40d2-a59e-f76ef03c6b4b  warrior   \n",
       "128204  6aeb02cb-ad96-4877-9110-b38bfc6f96a8  warrior   \n",
       "\n",
       "                         source        day  first_day  \n",
       "63663   youtube_channel_reklama 2020-05-15 2020-05-04  \n",
       "116778    instagram_new_adverts 2020-05-16 2020-05-07  \n",
       "49257     instagram_new_adverts 2020-05-20 2020-05-04  \n",
       "76224   youtube_channel_reklama 2020-05-18 2020-05-05  \n",
       "128204             facebook_ads 2020-05-11 2020-05-08  "
      ]
     },
     "metadata": {},
     "output_type": "display_data"
    }
   ],
   "source": [
    "display(final_data_query.sample(5))"
   ]
  },
  {
   "cell_type": "code",
   "execution_count": 39,
   "metadata": {},
   "outputs": [],
   "source": [
    "# Найдем время прохождения первого уровня\n",
    "final_data_query['lifetime'] = (\n",
    "    final_data_query['day'] - final_data_query['first_day']) / np.timedelta64(1, 'D')\n",
    "final_data_query['lifetime'] = final_data_query['lifetime'].astype('int')"
   ]
  },
  {
   "cell_type": "code",
   "execution_count": 40,
   "metadata": {},
   "outputs": [
    {
     "data": {
      "text/html": [
       "<div>\n",
       "<style scoped>\n",
       "    .dataframe tbody tr th:only-of-type {\n",
       "        vertical-align: middle;\n",
       "    }\n",
       "\n",
       "    .dataframe tbody tr th {\n",
       "        vertical-align: top;\n",
       "    }\n",
       "\n",
       "    .dataframe thead th {\n",
       "        text-align: right;\n",
       "    }\n",
       "</style>\n",
       "<table border=\"1\" class=\"dataframe\">\n",
       "  <thead>\n",
       "    <tr style=\"text-align: right;\">\n",
       "      <th></th>\n",
       "      <th>event_datetime</th>\n",
       "      <th>event</th>\n",
       "      <th>user_id</th>\n",
       "      <th>groups</th>\n",
       "      <th>source</th>\n",
       "      <th>day</th>\n",
       "      <th>first_day</th>\n",
       "      <th>lifetime</th>\n",
       "    </tr>\n",
       "  </thead>\n",
       "  <tbody>\n",
       "    <tr>\n",
       "      <td>24230</td>\n",
       "      <td>2020-05-17 15:44:36</td>\n",
       "      <td>finished_stage_1</td>\n",
       "      <td>456cc6a5-0a85-4c5a-b09c-559f838eec7e</td>\n",
       "      <td>builder</td>\n",
       "      <td>youtube_channel_reklama</td>\n",
       "      <td>2020-05-17</td>\n",
       "      <td>2020-05-04</td>\n",
       "      <td>13</td>\n",
       "    </tr>\n",
       "    <tr>\n",
       "      <td>10717</td>\n",
       "      <td>2020-05-17 22:26:30</td>\n",
       "      <td>finished_stage_1</td>\n",
       "      <td>3cbaa641-af12-46b9-9469-21e623145fa9</td>\n",
       "      <td>builder</td>\n",
       "      <td>instagram_new_adverts</td>\n",
       "      <td>2020-05-17</td>\n",
       "      <td>2020-05-04</td>\n",
       "      <td>13</td>\n",
       "    </tr>\n",
       "    <tr>\n",
       "      <td>71844</td>\n",
       "      <td>2020-05-11 07:53:28</td>\n",
       "      <td>finished_stage_1</td>\n",
       "      <td>2e3aa682-9399-4ddf-9df3-186efe9f9fbb</td>\n",
       "      <td>warrior</td>\n",
       "      <td>yandex_direct</td>\n",
       "      <td>2020-05-11</td>\n",
       "      <td>2020-05-05</td>\n",
       "      <td>6</td>\n",
       "    </tr>\n",
       "    <tr>\n",
       "      <td>65011</td>\n",
       "      <td>2020-05-18 17:31:41</td>\n",
       "      <td>finished_stage_1</td>\n",
       "      <td>dbdc1ec1-a851-4cc1-b107-b32555c3b799</td>\n",
       "      <td>builder</td>\n",
       "      <td>yandex_direct</td>\n",
       "      <td>2020-05-18</td>\n",
       "      <td>2020-05-05</td>\n",
       "      <td>13</td>\n",
       "    </tr>\n",
       "    <tr>\n",
       "      <td>16645</td>\n",
       "      <td>2020-05-19 10:08:21</td>\n",
       "      <td>finished_stage_1</td>\n",
       "      <td>665bba56-479a-407b-8879-3527889d9924</td>\n",
       "      <td>warrior</td>\n",
       "      <td>youtube_channel_reklama</td>\n",
       "      <td>2020-05-19</td>\n",
       "      <td>2020-05-04</td>\n",
       "      <td>15</td>\n",
       "    </tr>\n",
       "  </tbody>\n",
       "</table>\n",
       "</div>"
      ],
      "text/plain": [
       "           event_datetime             event  \\\n",
       "24230 2020-05-17 15:44:36  finished_stage_1   \n",
       "10717 2020-05-17 22:26:30  finished_stage_1   \n",
       "71844 2020-05-11 07:53:28  finished_stage_1   \n",
       "65011 2020-05-18 17:31:41  finished_stage_1   \n",
       "16645 2020-05-19 10:08:21  finished_stage_1   \n",
       "\n",
       "                                    user_id   groups                   source  \\\n",
       "24230  456cc6a5-0a85-4c5a-b09c-559f838eec7e  builder  youtube_channel_reklama   \n",
       "10717  3cbaa641-af12-46b9-9469-21e623145fa9  builder    instagram_new_adverts   \n",
       "71844  2e3aa682-9399-4ddf-9df3-186efe9f9fbb  warrior            yandex_direct   \n",
       "65011  dbdc1ec1-a851-4cc1-b107-b32555c3b799  builder            yandex_direct   \n",
       "16645  665bba56-479a-407b-8879-3527889d9924  warrior  youtube_channel_reklama   \n",
       "\n",
       "             day  first_day  lifetime  \n",
       "24230 2020-05-17 2020-05-04        13  \n",
       "10717 2020-05-17 2020-05-04        13  \n",
       "71844 2020-05-11 2020-05-05         6  \n",
       "65011 2020-05-18 2020-05-05        13  \n",
       "16645 2020-05-19 2020-05-04        15  "
      ]
     },
     "metadata": {},
     "output_type": "display_data"
    }
   ],
   "source": [
    "display(final_data_query.sample(5))"
   ]
  },
  {
   "cell_type": "code",
   "execution_count": 41,
   "metadata": {},
   "outputs": [],
   "source": [
    "# Выделим срезы для игроков строителей и воинов\n",
    "pve = final_data_query[final_data_query['groups'] == 'builder']\n",
    "pvp = final_data_query[final_data_query['groups'] == 'warrior']"
   ]
  },
  {
   "cell_type": "code",
   "execution_count": 42,
   "metadata": {},
   "outputs": [
    {
     "data": {
      "text/plain": [
       "<Figure size 432x288 with 0 Axes>"
      ]
     },
     "metadata": {},
     "output_type": "display_data"
    },
    {
     "data": {
      "image/png": "[encoded data removed]",
      "text/plain": [
       "<Figure size 720x720 with 1 Axes>"
      ]
     },
     "metadata": {},
     "output_type": "display_data"
    }
   ],
   "source": [
    "# Посмотрим на распределение величины \"время прохождения первого уровня\" для строителей\n",
    "plt.figure()\n",
    "sns.set_style('darkgrid')\n",
    "sns.displot(pve, x=pve['lifetime'].astype('int'), kde=True, height=10)\n",
    "plt.tick_params(axis='both', which='major', labelsize=16)\n",
    "plt.title('Распределние величины \"время прохождения первого уровня\" \\nдля pve-ориентированных игроков', fontsize=20)\n",
    "plt.xlabel('Время прохождения первого уровня', fontsize=20)\n",
    "plt.ylabel('Количество игроков', fontsize=20)\n",
    "plt.legend(labels=['pve'], fontsize=16)\n",
    "#plt.savefig('pve_lifetime.png', dpi=200, bbox_inches='tight')\n",
    "plt.show()"
   ]
  },
  {
   "cell_type": "code",
   "execution_count": 43,
   "metadata": {},
   "outputs": [
    {
     "data": {
      "text/plain": [
       "<Figure size 432x288 with 0 Axes>"
      ]
     },
     "metadata": {},
     "output_type": "display_data"
    },
    {
     "data": {
      "image/png": "[encoded data removed]",
      "text/plain": [
       "<Figure size 720x720 with 1 Axes>"
      ]
     },
     "metadata": {},
     "output_type": "display_data"
    }
   ],
   "source": [
    "# Посмотрим на распределение величины \"время прохождения первого уровня\" для воинов\n",
    "plt.figure()\n",
    "sns.set_style('darkgrid')\n",
    "sns.displot(pvp, x=pvp['lifetime'].astype('int'), kde=True, height=10)\n",
    "plt.tick_params(axis='both', which='major', labelsize=16)\n",
    "plt.title('Распределние величины \"время прохождения первого уровня\" \\nдля pvp-ориентированных игроков', fontsize=20)\n",
    "plt.xlabel('Время прохождения первого уровня', fontsize=20)\n",
    "plt.ylabel('Количество игроков', fontsize=20)\n",
    "plt.legend(labels=['pvp'], fontsize=16)\n",
    "#plt.savefig('pvp_lifetime.png', dpi=200, bbox_inches='tight')\n",
    "plt.show()"
   ]
  },
  {
   "cell_type": "markdown",
   "metadata": {},
   "source": [
    "#### Промежуточный вывод: Полученные распределения близки к нормальному, поэтому среднее значения и медиана примерно равны друг другу. Но для оценки времени прохождения я выберу медиану - она более устойчива к выбросам."
   ]
  },
  {
   "cell_type": "code",
   "execution_count": 44,
   "metadata": {},
   "outputs": [
    {
     "data": {
      "text/plain": [
       "groups\n",
       "builder    13\n",
       "warrior    11\n",
       "Name: lifetime, dtype: int64"
      ]
     },
     "metadata": {},
     "output_type": "display_data"
    }
   ],
   "source": [
    "display(final_data_query.groupby('groups')['lifetime'].median())"
   ]
  },
  {
   "cell_type": "markdown",
   "metadata": {},
   "source": [
    "#### Промежуточный вывод: среднее время прохождения для pve-игроков(строители) больше, чем для pvp-игроков(воины) - 13 дней против 11 дней."
   ]
  },
  {
   "cell_type": "markdown",
   "metadata": {},
   "source": [
    "#### 2) Оценить метрику САС для каждого источника рекламы"
   ]
  },
  {
   "cell_type": "code",
   "execution_count": 45,
   "metadata": {},
   "outputs": [
    {
     "data": {
      "text/html": [
       "<div>\n",
       "<style scoped>\n",
       "    .dataframe tbody tr th:only-of-type {\n",
       "        vertical-align: middle;\n",
       "    }\n",
       "\n",
       "    .dataframe tbody tr th {\n",
       "        vertical-align: top;\n",
       "    }\n",
       "\n",
       "    .dataframe thead th {\n",
       "        text-align: right;\n",
       "    }\n",
       "</style>\n",
       "<table border=\"1\" class=\"dataframe\">\n",
       "  <thead>\n",
       "    <tr style=\"text-align: right;\">\n",
       "      <th></th>\n",
       "      <th>first_day</th>\n",
       "      <th>source</th>\n",
       "      <th>n_users</th>\n",
       "    </tr>\n",
       "  </thead>\n",
       "  <tbody>\n",
       "    <tr>\n",
       "      <td>0</td>\n",
       "      <td>2020-05-04</td>\n",
       "      <td>facebook_ads</td>\n",
       "      <td>1184</td>\n",
       "    </tr>\n",
       "    <tr>\n",
       "      <td>1</td>\n",
       "      <td>2020-05-04</td>\n",
       "      <td>instagram_new_adverts</td>\n",
       "      <td>1452</td>\n",
       "    </tr>\n",
       "    <tr>\n",
       "      <td>2</td>\n",
       "      <td>2020-05-04</td>\n",
       "      <td>yandex_direct</td>\n",
       "      <td>2078</td>\n",
       "    </tr>\n",
       "    <tr>\n",
       "      <td>3</td>\n",
       "      <td>2020-05-04</td>\n",
       "      <td>youtube_channel_reklama</td>\n",
       "      <td>1146</td>\n",
       "    </tr>\n",
       "  </tbody>\n",
       "</table>\n",
       "</div>"
      ],
      "text/plain": [
       "   first_day                   source  n_users\n",
       "0 2020-05-04             facebook_ads     1184\n",
       "1 2020-05-04    instagram_new_adverts     1452\n",
       "2 2020-05-04            yandex_direct     2078\n",
       "3 2020-05-04  youtube_channel_reklama     1146"
      ]
     },
     "metadata": {},
     "output_type": "display_data"
    }
   ],
   "source": [
    "# Посчитаем количество новых игроков за каждый последующий день\n",
    "new_players = final_data.groupby(['first_day', 'source']).agg(\n",
    "    {'user_id': 'nunique'}).reset_index()\n",
    "new_players = new_players.rename({'user_id': 'n_users'}, axis=1)\n",
    "display(new_players.head(4))"
   ]
  },
  {
   "cell_type": "code",
   "execution_count": 46,
   "metadata": {},
   "outputs": [
    {
     "data": {
      "text/html": [
       "<div>\n",
       "<style scoped>\n",
       "    .dataframe tbody tr th:only-of-type {\n",
       "        vertical-align: middle;\n",
       "    }\n",
       "\n",
       "    .dataframe tbody tr th {\n",
       "        vertical-align: top;\n",
       "    }\n",
       "\n",
       "    .dataframe thead th {\n",
       "        text-align: right;\n",
       "    }\n",
       "</style>\n",
       "<table border=\"1\" class=\"dataframe\">\n",
       "  <thead>\n",
       "    <tr style=\"text-align: right;\">\n",
       "      <th></th>\n",
       "      <th>first_day</th>\n",
       "      <th>source</th>\n",
       "      <th>n_users</th>\n",
       "      <th>cost</th>\n",
       "    </tr>\n",
       "  </thead>\n",
       "  <tbody>\n",
       "    <tr>\n",
       "      <td>0</td>\n",
       "      <td>2020-05-04</td>\n",
       "      <td>facebook_ads</td>\n",
       "      <td>1184</td>\n",
       "      <td>548.35</td>\n",
       "    </tr>\n",
       "    <tr>\n",
       "      <td>1</td>\n",
       "      <td>2020-05-04</td>\n",
       "      <td>instagram_new_adverts</td>\n",
       "      <td>1452</td>\n",
       "      <td>502.93</td>\n",
       "    </tr>\n",
       "    <tr>\n",
       "      <td>2</td>\n",
       "      <td>2020-05-04</td>\n",
       "      <td>yandex_direct</td>\n",
       "      <td>2078</td>\n",
       "      <td>554.65</td>\n",
       "    </tr>\n",
       "    <tr>\n",
       "      <td>3</td>\n",
       "      <td>2020-05-04</td>\n",
       "      <td>youtube_channel_reklama</td>\n",
       "      <td>1146</td>\n",
       "      <td>259.07</td>\n",
       "    </tr>\n",
       "    <tr>\n",
       "      <td>4</td>\n",
       "      <td>2020-05-05</td>\n",
       "      <td>facebook_ads</td>\n",
       "      <td>694</td>\n",
       "      <td>260.19</td>\n",
       "    </tr>\n",
       "    <tr>\n",
       "      <td>5</td>\n",
       "      <td>2020-05-05</td>\n",
       "      <td>instagram_new_adverts</td>\n",
       "      <td>796</td>\n",
       "      <td>313.97</td>\n",
       "    </tr>\n",
       "    <tr>\n",
       "      <td>6</td>\n",
       "      <td>2020-05-05</td>\n",
       "      <td>yandex_direct</td>\n",
       "      <td>1208</td>\n",
       "      <td>308.23</td>\n",
       "    </tr>\n",
       "    <tr>\n",
       "      <td>7</td>\n",
       "      <td>2020-05-05</td>\n",
       "      <td>youtube_channel_reklama</td>\n",
       "      <td>663</td>\n",
       "      <td>147.04</td>\n",
       "    </tr>\n",
       "    <tr>\n",
       "      <td>8</td>\n",
       "      <td>2020-05-06</td>\n",
       "      <td>facebook_ads</td>\n",
       "      <td>345</td>\n",
       "      <td>177.98</td>\n",
       "    </tr>\n",
       "    <tr>\n",
       "      <td>9</td>\n",
       "      <td>2020-05-06</td>\n",
       "      <td>instagram_new_adverts</td>\n",
       "      <td>472</td>\n",
       "      <td>173.07</td>\n",
       "    </tr>\n",
       "  </tbody>\n",
       "</table>\n",
       "</div>"
      ],
      "text/plain": [
       "   first_day                   source  n_users    cost\n",
       "0 2020-05-04             facebook_ads     1184  548.35\n",
       "1 2020-05-04    instagram_new_adverts     1452  502.93\n",
       "2 2020-05-04            yandex_direct     2078  554.65\n",
       "3 2020-05-04  youtube_channel_reklama     1146  259.07\n",
       "4 2020-05-05             facebook_ads      694  260.19\n",
       "5 2020-05-05    instagram_new_adverts      796  313.97\n",
       "6 2020-05-05            yandex_direct     1208  308.23\n",
       "7 2020-05-05  youtube_channel_reklama      663  147.04\n",
       "8 2020-05-06             facebook_ads      345  177.98\n",
       "9 2020-05-06    instagram_new_adverts      472  173.07"
      ]
     },
     "metadata": {},
     "output_type": "display_data"
    }
   ],
   "source": [
    "# Приклеим к полученной таблице таблицу ad_costs\n",
    "new_players = new_players.merge(ad_costs, on=['first_day', 'source'])\n",
    "new_players['cost'] = new_players['cost'].round(2)\n",
    "display(new_players.head(10))"
   ]
  },
  {
   "cell_type": "code",
   "execution_count": 47,
   "metadata": {},
   "outputs": [
    {
     "data": {
      "text/html": [
       "<div>\n",
       "<style scoped>\n",
       "    .dataframe tbody tr th:only-of-type {\n",
       "        vertical-align: middle;\n",
       "    }\n",
       "\n",
       "    .dataframe tbody tr th {\n",
       "        vertical-align: top;\n",
       "    }\n",
       "\n",
       "    .dataframe thead th {\n",
       "        text-align: right;\n",
       "    }\n",
       "</style>\n",
       "<table border=\"1\" class=\"dataframe\">\n",
       "  <thead>\n",
       "    <tr style=\"text-align: right;\">\n",
       "      <th></th>\n",
       "      <th>first_day</th>\n",
       "      <th>source</th>\n",
       "      <th>n_users</th>\n",
       "      <th>cost</th>\n",
       "      <th>cac</th>\n",
       "    </tr>\n",
       "  </thead>\n",
       "  <tbody>\n",
       "    <tr>\n",
       "      <td>0</td>\n",
       "      <td>2020-05-04</td>\n",
       "      <td>facebook_ads</td>\n",
       "      <td>1184</td>\n",
       "      <td>548.35</td>\n",
       "      <td>0.46</td>\n",
       "    </tr>\n",
       "    <tr>\n",
       "      <td>1</td>\n",
       "      <td>2020-05-04</td>\n",
       "      <td>instagram_new_adverts</td>\n",
       "      <td>1452</td>\n",
       "      <td>502.93</td>\n",
       "      <td>0.35</td>\n",
       "    </tr>\n",
       "    <tr>\n",
       "      <td>2</td>\n",
       "      <td>2020-05-04</td>\n",
       "      <td>yandex_direct</td>\n",
       "      <td>2078</td>\n",
       "      <td>554.65</td>\n",
       "      <td>0.27</td>\n",
       "    </tr>\n",
       "    <tr>\n",
       "      <td>3</td>\n",
       "      <td>2020-05-04</td>\n",
       "      <td>youtube_channel_reklama</td>\n",
       "      <td>1146</td>\n",
       "      <td>259.07</td>\n",
       "      <td>0.23</td>\n",
       "    </tr>\n",
       "    <tr>\n",
       "      <td>4</td>\n",
       "      <td>2020-05-05</td>\n",
       "      <td>facebook_ads</td>\n",
       "      <td>694</td>\n",
       "      <td>260.19</td>\n",
       "      <td>0.37</td>\n",
       "    </tr>\n",
       "    <tr>\n",
       "      <td>5</td>\n",
       "      <td>2020-05-05</td>\n",
       "      <td>instagram_new_adverts</td>\n",
       "      <td>796</td>\n",
       "      <td>313.97</td>\n",
       "      <td>0.39</td>\n",
       "    </tr>\n",
       "    <tr>\n",
       "      <td>6</td>\n",
       "      <td>2020-05-05</td>\n",
       "      <td>yandex_direct</td>\n",
       "      <td>1208</td>\n",
       "      <td>308.23</td>\n",
       "      <td>0.26</td>\n",
       "    </tr>\n",
       "    <tr>\n",
       "      <td>7</td>\n",
       "      <td>2020-05-05</td>\n",
       "      <td>youtube_channel_reklama</td>\n",
       "      <td>663</td>\n",
       "      <td>147.04</td>\n",
       "      <td>0.22</td>\n",
       "    </tr>\n",
       "    <tr>\n",
       "      <td>8</td>\n",
       "      <td>2020-05-06</td>\n",
       "      <td>facebook_ads</td>\n",
       "      <td>345</td>\n",
       "      <td>177.98</td>\n",
       "      <td>0.52</td>\n",
       "    </tr>\n",
       "    <tr>\n",
       "      <td>9</td>\n",
       "      <td>2020-05-06</td>\n",
       "      <td>instagram_new_adverts</td>\n",
       "      <td>472</td>\n",
       "      <td>173.07</td>\n",
       "      <td>0.37</td>\n",
       "    </tr>\n",
       "  </tbody>\n",
       "</table>\n",
       "</div>"
      ],
      "text/plain": [
       "   first_day                   source  n_users    cost   cac\n",
       "0 2020-05-04             facebook_ads     1184  548.35  0.46\n",
       "1 2020-05-04    instagram_new_adverts     1452  502.93  0.35\n",
       "2 2020-05-04            yandex_direct     2078  554.65  0.27\n",
       "3 2020-05-04  youtube_channel_reklama     1146  259.07  0.23\n",
       "4 2020-05-05             facebook_ads      694  260.19  0.37\n",
       "5 2020-05-05    instagram_new_adverts      796  313.97  0.39\n",
       "6 2020-05-05            yandex_direct     1208  308.23  0.26\n",
       "7 2020-05-05  youtube_channel_reklama      663  147.04  0.22\n",
       "8 2020-05-06             facebook_ads      345  177.98  0.52\n",
       "9 2020-05-06    instagram_new_adverts      472  173.07  0.37"
      ]
     },
     "metadata": {},
     "output_type": "display_data"
    }
   ],
   "source": [
    "# Посчитаем среднее значение САС покогортно\n",
    "new_players['cac'] = new_players['cost'] / new_players['n_users']\n",
    "new_players['cac'] = new_players['cac'].round(2)\n",
    "display(new_players.head(10))"
   ]
  },
  {
   "cell_type": "code",
   "execution_count": 48,
   "metadata": {},
   "outputs": [
    {
     "data": {
      "image/png": "[encoded data removed]",
      "text/plain": [
       "<Figure size 1728x1296 with 1 Axes>"
      ]
     },
     "metadata": {},
     "output_type": "display_data"
    }
   ],
   "source": [
    "# Посмотрим на метрику САС в разрезе источников рекламы\n",
    "plt.figure(figsize=(24, 18))\n",
    "sns.set_style('darkgrid')\n",
    "sns.barplot(data=new_players,\n",
    "            x=new_players['first_day'].dt.strftime('%Y-%m-%d'),\n",
    "            y='cac',\n",
    "            hue='source'\n",
    "            )\n",
    "plt.tick_params(axis='both',\n",
    "                which='major',\n",
    "                labelsize=14)\n",
    "plt.title('Среднее значение САС для каждого источника рекламы за каждый день привлечения новых игроков',\n",
    "          fontsize=20)\n",
    "plt.xlabel('Первый день начала игры', fontsize=20)\n",
    "plt.ylabel('Среднее значение САС', fontsize=20)\n",
    "plt.legend(fontsize=14)\n",
    "#plt.savefig('CAC.png', dpi=200, bbox_inches='tight')\n",
    "plt.show()"
   ]
  },
  {
   "cell_type": "markdown",
   "metadata": {},
   "source": [
    "#### Промежуточный вывод: по значению метрики САС можно сделать следующий вывод: самым выгодным источником рекламы является платформы Youtube и Яндекс.Директ, самым невыгодным источником по стоимости привлечения является Facebook."
   ]
  },
  {
   "cell_type": "markdown",
   "metadata": {},
   "source": [
    "## <a class=\"anchor\" id=\"num5\">[Шаг 5. Проверка статистических гипотез](#num0)</a>"
   ]
  },
  {
   "cell_type": "markdown",
   "metadata": {},
   "source": [
    "##### 1) Время завершения первого уровня различается в зависимости способа прохождения"
   ]
  },
  {
   "cell_type": "markdown",
   "metadata": {},
   "source": [
    "Нулевая гипотеза Н0: среднее время прохождения первого уровня завершением проекта равно времени прохождения победой над другим игроком.\n",
    "\n",
    "Альтернативная гипотеза Н1: время прохождения первого уровня разными способами отличается\n",
    "\n",
    "Критический уровень статистической значимости: alpha = 0.05"
   ]
  },
  {
   "cell_type": "code",
   "execution_count": 49,
   "metadata": {},
   "outputs": [],
   "source": [
    "# Подготовим 2 выборки для проведения статистического теста\n",
    "sample_1 = final_data_query[final_data_query['groups']\n",
    "                            == 'builder']['lifetime']\n",
    "sample_2 = final_data_query[final_data_query['groups']\n",
    "                            == 'warrior']['lifetime']"
   ]
  },
  {
   "cell_type": "code",
   "execution_count": 50,
   "metadata": {},
   "outputs": [
    {
     "name": "stdout",
     "output_type": "stream",
     "text": [
      "12.408867586757813\n",
      "16.849998558288398\n"
     ]
    }
   ],
   "source": [
    "# Проверка равнства дисперсии проверяемых совокупностей для определения параметра equal_var\n",
    "print(np.var(sample_1, ddof=1))\n",
    "print(np.var(sample_2, ddof=1))"
   ]
  },
  {
   "cell_type": "markdown",
   "metadata": {},
   "source": [
    "Дисперсии этих выборок не равны, поэтому для проверки статистической гипотезы используем t-тест Уэлча (параметр equal_var выбираем False)"
   ]
  },
  {
   "cell_type": "code",
   "execution_count": 51,
   "metadata": {},
   "outputs": [
    {
     "name": "stdout",
     "output_type": "stream",
     "text": [
      "p-value: 6.570466755643636e-105\n",
      "Отвергаем нулевую гипотезу\n"
     ]
    }
   ],
   "source": [
    "alpha = 0.05  # критический уровень статистической значимости\n",
    "# если p-value окажется меньше него - отвергнем гипотезу\n",
    "\n",
    "results = st.ttest_ind(sample_1, sample_2, equal_var=False)\n",
    "\n",
    "print('p-value:', results.pvalue)\n",
    "\n",
    "if results.pvalue < alpha:\n",
    "    print('Отвергаем нулевую гипотезу')\n",
    "else:\n",
    "    print('Не получилось отвергнуть нулевую гипотезу')"
   ]
  },
  {
   "cell_type": "markdown",
   "metadata": {},
   "source": [
    "#### Промежуточный вывод: Нулевая гипотеза отвергается, следовательно время прохождения уровня разными способами различается (воины завершают уровень на 2 дня быстрее)"
   ]
  },
  {
   "cell_type": "markdown",
   "metadata": {},
   "source": [
    "##### 2) Для ответа на вопрос задания \"проанализируйте влияния источника перехода в игру на поведение пользователя\" выдвигается следующая гипотеза: Рекламный источник перехода в игру влияет на поведение игрока."
   ]
  },
  {
   "cell_type": "markdown",
   "metadata": {},
   "source": [
    "Пояснение: для подтверждения/опровержения данной гипотезы проводится ряд z-тестов для сравнения долей pvp/pve-игроков, чтобы сделать вывод о влиянии источника перехода в игру на поведение игрока. "
   ]
  },
  {
   "cell_type": "code",
   "execution_count": 52,
   "metadata": {},
   "outputs": [
    {
     "data": {
      "text/html": [
       "<div>\n",
       "<style scoped>\n",
       "    .dataframe tbody tr th:only-of-type {\n",
       "        vertical-align: middle;\n",
       "    }\n",
       "\n",
       "    .dataframe tbody tr th {\n",
       "        vertical-align: top;\n",
       "    }\n",
       "\n",
       "    .dataframe thead th {\n",
       "        text-align: right;\n",
       "    }\n",
       "</style>\n",
       "<table border=\"1\" class=\"dataframe\">\n",
       "  <thead>\n",
       "    <tr style=\"text-align: right;\">\n",
       "      <th></th>\n",
       "      <th>groups</th>\n",
       "      <th>facebook</th>\n",
       "      <th>youtube</th>\n",
       "      <th>instagram</th>\n",
       "      <th>yandex</th>\n",
       "      <th>i+yt</th>\n",
       "      <th>i+fb</th>\n",
       "      <th>fb+yt</th>\n",
       "      <th>fb+yt+i</th>\n",
       "    </tr>\n",
       "  </thead>\n",
       "  <tbody>\n",
       "    <tr>\n",
       "      <td>0</td>\n",
       "      <td>builder</td>\n",
       "      <td>391</td>\n",
       "      <td>379</td>\n",
       "      <td>476</td>\n",
       "      <td>620</td>\n",
       "      <td>855</td>\n",
       "      <td>867</td>\n",
       "      <td>770</td>\n",
       "      <td>1246</td>\n",
       "    </tr>\n",
       "    <tr>\n",
       "      <td>1</td>\n",
       "      <td>warrior</td>\n",
       "      <td>759</td>\n",
       "      <td>780</td>\n",
       "      <td>990</td>\n",
       "      <td>1422</td>\n",
       "      <td>1770</td>\n",
       "      <td>1749</td>\n",
       "      <td>1539</td>\n",
       "      <td>2529</td>\n",
       "    </tr>\n",
       "  </tbody>\n",
       "</table>\n",
       "</div>"
      ],
      "text/plain": [
       "    groups  facebook  youtube  instagram  yandex  i+yt  i+fb  fb+yt  fb+yt+i\n",
       "0  builder       391      379        476     620   855   867    770     1246\n",
       "1  warrior       759      780        990    1422  1770  1749   1539     2529"
      ]
     },
     "metadata": {},
     "output_type": "display_data"
    }
   ],
   "source": [
    "# Подготовим таблицу для проведения стат.теста\n",
    "facebook = final_data_query[final_data_query['source'] == 'facebook_ads']\n",
    "facebook_grouped = facebook.groupby('groups').agg(\n",
    "    {'user_id': 'nunique'}).reset_index()\n",
    "facebook_grouped = facebook_grouped.rename({'user_id': 'facebook'}, axis=1)\n",
    "\n",
    "youtube = final_data_query[final_data_query['source']\n",
    "                           == 'youtube_channel_reklama']\n",
    "youtube_grouped = youtube.groupby('groups').agg(\n",
    "    {'user_id': 'nunique'}).reset_index()\n",
    "youtube_grouped = youtube_grouped.rename({'user_id': 'youtube'}, axis=1)\n",
    "\n",
    "instagram = final_data_query[final_data_query['source']\n",
    "                             == 'instagram_new_adverts']\n",
    "instagram_grouped = instagram.groupby('groups').agg(\n",
    "    {'user_id': 'nunique'}).reset_index()\n",
    "instagram_grouped = instagram_grouped.rename({'user_id': 'instagram'}, axis=1)\n",
    "\n",
    "yandex = final_data_query[final_data_query['source'] == 'yandex_direct']\n",
    "yandex_grouped = yandex.groupby('groups').agg(\n",
    "    {'user_id': 'nunique'}).reset_index()\n",
    "yandex_grouped = yandex_grouped.rename({'user_id': 'yandex'}, axis=1)\n",
    "\n",
    "sttest_table = facebook_grouped.merge(youtube_grouped, on='groups', how='left')\\\n",
    "                               .merge(instagram_grouped, on='groups')\\\n",
    "                               .merge(yandex_grouped, on='groups')\n",
    "\n",
    "sttest_table['i+yt'] = sttest_table['instagram'] + sttest_table['youtube']\n",
    "sttest_table['i+fb'] = sttest_table['instagram'] + sttest_table['facebook']\n",
    "sttest_table['fb+yt'] = sttest_table['facebook'] + sttest_table['youtube']\n",
    "sttest_table['fb+yt+i'] = sttest_table['facebook'] + \\\n",
    "    sttest_table['youtube'] + sttest_table['instagram']\n",
    "display(sttest_table)"
   ]
  },
  {
   "cell_type": "markdown",
   "metadata": {},
   "source": [
    "Воинов приходит больше чем строителей. Сравним доли воинов от общего числа игроков, пришедших из различных источников рекламы, чтобы определить наиболее перспективный источник. Как успешное событие рассмотрим завершение игроком первого уровня победой над другим игроком (количество воинов)"
   ]
  },
  {
   "cell_type": "code",
   "execution_count": 53,
   "metadata": {},
   "outputs": [],
   "source": [
    "# Создадим функцию для проведения z-test'а\n",
    "def ztest_func(alpha, x, y, m, n):\n",
    "    alpha = alpha  # критический уровень статистической значимости\n",
    "\n",
    "    successes = np.array([x, y])\n",
    "    trials = np.array([m, n])\n",
    "\n",
    "    p1 = successes[0]/trials[0]  # пропорция успехов в первой группе:\n",
    "\n",
    "    p2 = successes[1]/trials[1]  # пропорция успехов во второй группе:\n",
    "\n",
    "    # пропорция успехов в комбинированном датасете:\n",
    "    p_combined = (successes[0] + successes[1]) / (trials[0] + trials[1])\n",
    "\n",
    "    difference = p1 - p2  # разница пропорций в датасетах\n",
    "\n",
    "    # считаем статистику в ст.отклонениях стандартного нормального распределения\n",
    "    z_value = difference / mth.sqrt(\n",
    "        p_combined * (1 - p_combined) * (1 / trials[0] + 1 / trials[1]))\n",
    "\n",
    "    # задаем стандартное нормальное распределение (среднее 0, ст.отклонение 1)\n",
    "    distr = st.norm(0, 1)\n",
    "\n",
    "    p_value = (1 - distr.cdf(abs(z_value))) * 2\n",
    "\n",
    "    print('p-значение: ', p_value)\n",
    "\n",
    "    if p_value < alpha:\n",
    "        print('Отвергаем нулевую гипотезу: между долями есть значимая разница')\n",
    "    else:\n",
    "        print(\n",
    "            'Не получилось отвергнуть нулевую гипотезу, нет оснований считать доли разными')"
   ]
  },
  {
   "cell_type": "markdown",
   "metadata": {},
   "source": [
    "### Выдвигаем гипотезы для проведения статистических тестов"
   ]
  },
  {
   "cell_type": "markdown",
   "metadata": {},
   "source": [
    "Всего проводится 7 статистических тестов, чтобы не допустить ошибки используем попроавку Шидака для критического уровня статистической значимости alpha = 1-(1-0.05)^(1/7) = 0.01"
   ]
  },
  {
   "cell_type": "markdown",
   "metadata": {},
   "source": [
    "    Нулевая гипотеза Н0: не существует статистически значимых различий между долями воинов пришедших из Яндекс.Директа и следующих источников перехода в игру:\n",
    "    \n",
    "    - Facebook,\n",
    "    - Youtube,\n",
    "    - Instagram,\n",
    "    - Instagram и Youtube,\n",
    "    - Instagram и Facebook,\n",
    "    - Facebook и Youtube,\n",
    "    - Facebook, Youtube и Instagram\n",
    "    \n",
    "    Альтернативная гипотеза Н1: статистически значимые различия существуют\n",
    "    \n",
    "    Критический уровень статистической значимости alpha = 0.01"
   ]
  },
  {
   "cell_type": "code",
   "execution_count": 54,
   "metadata": {},
   "outputs": [
    {
     "name": "stdout",
     "output_type": "stream",
     "text": [
      "['facebook', 'youtube', 'instagram', 'i+yt', 'i+fb', 'fb+yt', 'fb+yt+i']\n"
     ]
    }
   ],
   "source": [
    "# Подготовим список с названиями столбцов для запуска\n",
    "# функции ztest_func с помощью цикла\n",
    "columns_list = sttest_table.columns.to_list()\n",
    "del columns_list[0]\n",
    "del columns_list[3]\n",
    "print(columns_list)"
   ]
  },
  {
   "cell_type": "code",
   "execution_count": 55,
   "metadata": {},
   "outputs": [
    {
     "name": "stdout",
     "output_type": "stream",
     "text": [
      "p-значение:  0.03392989598870222\n",
      "Не получилось отвергнуть нулевую гипотезу, нет оснований считать доли разными\n",
      "p-значение:  0.17001309094083195\n",
      "Не получилось отвергнуть нулевую гипотезу, нет оснований считать доли разными\n",
      "p-значение:  0.18419877840962062\n",
      "Не получилось отвергнуть нулевую гипотезу, нет оснований считать доли разными\n",
      "p-значение:  0.10734814501690848\n",
      "Не получилось отвергнуть нулевую гипотезу, нет оснований считать доли разными\n",
      "p-значение:  0.043452445545336005\n",
      "Не получилось отвергнуть нулевую гипотезу, нет оснований считать доли разными\n",
      "p-значение:  0.03505755004924538\n",
      "Не получилось отвергнуть нулевую гипотезу, нет оснований считать доли разными\n",
      "p-значение:  0.039190762181605665\n",
      "Не получилось отвергнуть нулевую гипотезу, нет оснований считать доли разными\n"
     ]
    }
   ],
   "source": [
    "# Проводим серию z-тестов\n",
    "for column in columns_list:\n",
    "    ztest_func(0.01, sttest_table.loc[1, 'yandex'],\n",
    "               sttest_table.loc[1, column],\n",
    "               sttest_table.loc[0, 'yandex'] + sttest_table.loc[1, 'yandex'],\n",
    "               sttest_table.loc[0, column] + sttest_table.loc[1, column])"
   ]
  },
  {
   "cell_type": "markdown",
   "metadata": {},
   "source": [
    "#### Статистически все 4 источника приводят одинаковую долю воинов в игру, как и строителей, поэтому гипотезу: источник перехода в игру влияет на поведение игрока можно отвергнуть."
   ]
  },
  {
   "cell_type": "markdown",
   "metadata": {},
   "source": [
    "## <a class=\"anchor\" id=\"num6\">[Шаг 6. Общие выводы](#num0)</a>"
   ]
  },
  {
   "cell_type": "markdown",
   "metadata": {},
   "source": [
    "#### Проведено аналитическое исследование источников перехода в игру Космические братья и оценено их влияние на игроков. Можно сделать следующие выводы:\n",
    "\n",
    "    1) За выбранное время исследования игроков, не прошедших первый уровень больше, чем остальных - 57,2%. Снизить это число предположительно можно разработкой и введением в игру обучающего уровня;\n",
    "    \n",
    "    2) Среди игроков большее предпочтение отдается pvp-стилю игры (67,9% воинов против 32,1% строителей - более чем в 2 раза);\n",
    "    \n",
    "    3) По таким метрикам как общая стоимость, количество привлеченных игроков, средняя стоимость привлечения одного игрока Youtube и Яндекс.Директ показывают себя лучше, чем Instagram и Facebook;\n",
    "    \n",
    "    4) Доля игроков не завершивших первый уровень не зависит от источника перехода в игру;\n",
    "    \n",
    "    5) Время прохождения первого уровня в зависимости от способа прохождения различается - 13 дней при строительство орбитальной станции, 11 дней - при победе над другим игроком;\n",
    "    \n",
    "    6) Оценка метрики САС подтверждает, что Youtube и Яндекс.Директ являются более выгодными для привлечения новых игроков;\n",
    "    \n",
    "    7) По результатам проведенного статистического теста выяснено, что тип источника перехода не влияет на поведение игроков (из всех источников перехода приходит примерно равное соотношение воинов/строителей - воинов рпимерно в 2 раза больше)."
   ]
  }
 ],
 "metadata": {
  "kernelspec": {
   "display_name": "Python 3",
   "language": "python",
   "name": "python3"
  },
  "language_info": {
   "codemirror_mode": {
    "name": "ipython",
    "version": 3
   },
   "file_extension": ".py",
   "mimetype": "text/x-python",
   "name": "python",
   "nbconvert_exporter": "python",
   "pygments_lexer": "ipython3",
   "version": "3.8.5"
  },
  "toc": {
   "base_numbering": 1,
   "nav_menu": {},
   "number_sections": true,
   "sideBar": true,
   "skip_h1_title": true,
   "title_cell": "Table of Contents",
   "title_sidebar": "Contents",
   "toc_cell": false,
   "toc_position": {},
   "toc_section_display": true,
   "toc_window_display": false
  }
 },
 "nbformat": 4,
 "nbformat_minor": 4
}
