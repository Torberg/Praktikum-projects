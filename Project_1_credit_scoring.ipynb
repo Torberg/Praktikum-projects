{
 "cells": [
  {
   "cell_type": "markdown",
   "metadata": {},
   "source": [
    "## Исследование надёжности заёмщиков\n",
    "\n",
    "Заказчик — кредитный отдел банка. Нужно разобраться, влияет ли семейное положение и количество детей клиента на факт погашения кредита в срок. Входные данные от банка — статистика о платёжеспособности клиентов.\n",
    "\n",
    "Результаты исследования будут учтены при построении модели **кредитного скоринга** — специальной системы, которая оценивает способность потенциального заёмщика вернуть кредит банку."
   ]
  },
  {
   "cell_type": "markdown",
   "metadata": {},
   "source": [
    "### Шаг 1. Откройте файл с данными и изучите общую информацию. "
   ]
  },
  {
   "cell_type": "code",
   "execution_count": 1,
   "metadata": {
    "scrolled": false
   },
   "outputs": [],
   "source": [
    "# Импорт необходимых библиотек\n",
    "import warnings\n",
    "import pandas as pd\n",
    "from pymystem3 import Mystem\n",
    "m = Mystem()\n",
    "warnings.filterwarnings('ignore')"
   ]
  },
  {
   "cell_type": "code",
   "execution_count": 2,
   "metadata": {},
   "outputs": [
    {
     "data": {
      "text/html": [
       "<div>\n",
       "<style scoped>\n",
       "    .dataframe tbody tr th:only-of-type {\n",
       "        vertical-align: middle;\n",
       "    }\n",
       "\n",
       "    .dataframe tbody tr th {\n",
       "        vertical-align: top;\n",
       "    }\n",
       "\n",
       "    .dataframe thead th {\n",
       "        text-align: right;\n",
       "    }\n",
       "</style>\n",
       "<table border=\"1\" class=\"dataframe\">\n",
       "  <thead>\n",
       "    <tr style=\"text-align: right;\">\n",
       "      <th></th>\n",
       "      <th>children</th>\n",
       "      <th>days_employed</th>\n",
       "      <th>dob_years</th>\n",
       "      <th>education</th>\n",
       "      <th>education_id</th>\n",
       "      <th>family_status</th>\n",
       "      <th>family_status_id</th>\n",
       "      <th>gender</th>\n",
       "      <th>income_type</th>\n",
       "      <th>debt</th>\n",
       "      <th>total_income</th>\n",
       "      <th>purpose</th>\n",
       "    </tr>\n",
       "  </thead>\n",
       "  <tbody>\n",
       "    <tr>\n",
       "      <th>16544</th>\n",
       "      <td>1</td>\n",
       "      <td>-2612.575716</td>\n",
       "      <td>42</td>\n",
       "      <td>среднее</td>\n",
       "      <td>1</td>\n",
       "      <td>женат / замужем</td>\n",
       "      <td>0</td>\n",
       "      <td>F</td>\n",
       "      <td>сотрудник</td>\n",
       "      <td>0</td>\n",
       "      <td>125415.385617</td>\n",
       "      <td>покупка жилья</td>\n",
       "    </tr>\n",
       "    <tr>\n",
       "      <th>10203</th>\n",
       "      <td>0</td>\n",
       "      <td>-681.569580</td>\n",
       "      <td>34</td>\n",
       "      <td>среднее</td>\n",
       "      <td>1</td>\n",
       "      <td>женат / замужем</td>\n",
       "      <td>0</td>\n",
       "      <td>M</td>\n",
       "      <td>сотрудник</td>\n",
       "      <td>0</td>\n",
       "      <td>272971.868520</td>\n",
       "      <td>операции со своей недвижимостью</td>\n",
       "    </tr>\n",
       "    <tr>\n",
       "      <th>9242</th>\n",
       "      <td>1</td>\n",
       "      <td>-1132.854690</td>\n",
       "      <td>39</td>\n",
       "      <td>среднее</td>\n",
       "      <td>1</td>\n",
       "      <td>женат / замужем</td>\n",
       "      <td>0</td>\n",
       "      <td>F</td>\n",
       "      <td>сотрудник</td>\n",
       "      <td>0</td>\n",
       "      <td>153463.745931</td>\n",
       "      <td>покупка коммерческой недвижимости</td>\n",
       "    </tr>\n",
       "    <tr>\n",
       "      <th>20352</th>\n",
       "      <td>0</td>\n",
       "      <td>341429.483363</td>\n",
       "      <td>61</td>\n",
       "      <td>среднее</td>\n",
       "      <td>1</td>\n",
       "      <td>женат / замужем</td>\n",
       "      <td>0</td>\n",
       "      <td>F</td>\n",
       "      <td>пенсионер</td>\n",
       "      <td>0</td>\n",
       "      <td>74181.542979</td>\n",
       "      <td>на покупку своего автомобиля</td>\n",
       "    </tr>\n",
       "    <tr>\n",
       "      <th>19738</th>\n",
       "      <td>0</td>\n",
       "      <td>-139.170571</td>\n",
       "      <td>62</td>\n",
       "      <td>среднее</td>\n",
       "      <td>1</td>\n",
       "      <td>женат / замужем</td>\n",
       "      <td>0</td>\n",
       "      <td>F</td>\n",
       "      <td>сотрудник</td>\n",
       "      <td>0</td>\n",
       "      <td>233267.420804</td>\n",
       "      <td>автомобиль</td>\n",
       "    </tr>\n",
       "  </tbody>\n",
       "</table>\n",
       "</div>"
      ],
      "text/plain": [
       "       children  days_employed  dob_years education  education_id  \\\n",
       "16544         1   -2612.575716         42   среднее             1   \n",
       "10203         0    -681.569580         34   среднее             1   \n",
       "9242          1   -1132.854690         39   среднее             1   \n",
       "20352         0  341429.483363         61   среднее             1   \n",
       "19738         0    -139.170571         62   среднее             1   \n",
       "\n",
       "         family_status  family_status_id gender income_type  debt  \\\n",
       "16544  женат / замужем                 0      F   сотрудник     0   \n",
       "10203  женат / замужем                 0      M   сотрудник     0   \n",
       "9242   женат / замужем                 0      F   сотрудник     0   \n",
       "20352  женат / замужем                 0      F   пенсионер     0   \n",
       "19738  женат / замужем                 0      F   сотрудник     0   \n",
       "\n",
       "        total_income                            purpose  \n",
       "16544  125415.385617                      покупка жилья  \n",
       "10203  272971.868520    операции со своей недвижимостью  \n",
       "9242   153463.745931  покупка коммерческой недвижимости  \n",
       "20352   74181.542979       на покупку своего автомобиля  \n",
       "19738  233267.420804                         автомобиль  "
      ]
     },
     "metadata": {},
     "output_type": "display_data"
    },
    {
     "name": "stdout",
     "output_type": "stream",
     "text": [
      "<class 'pandas.core.frame.DataFrame'>\n",
      "RangeIndex: 21525 entries, 0 to 21524\n",
      "Data columns (total 12 columns):\n",
      " #   Column            Non-Null Count  Dtype  \n",
      "---  ------            --------------  -----  \n",
      " 0   children          21525 non-null  int64  \n",
      " 1   days_employed     19351 non-null  float64\n",
      " 2   dob_years         21525 non-null  int64  \n",
      " 3   education         21525 non-null  object \n",
      " 4   education_id      21525 non-null  int64  \n",
      " 5   family_status     21525 non-null  object \n",
      " 6   family_status_id  21525 non-null  int64  \n",
      " 7   gender            21525 non-null  object \n",
      " 8   income_type       21525 non-null  object \n",
      " 9   debt              21525 non-null  int64  \n",
      " 10  total_income      19351 non-null  float64\n",
      " 11  purpose           21525 non-null  object \n",
      "dtypes: float64(2), int64(5), object(5)\n",
      "memory usage: 2.0+ MB\n"
     ]
    }
   ],
   "source": [
    "# Загрузка датасета и изучение его свойств\n",
    "filepath = '/data.csv'\n",
    "credit_scoring = pd.read_csv(filepath)\n",
    "display(credit_scoring.sample(5))\n",
    "credit_scoring.info()"
   ]
  },
  {
   "cell_type": "code",
   "execution_count": 3,
   "metadata": {},
   "outputs": [
    {
     "name": "stdout",
     "output_type": "stream",
     "text": [
      "children               0\n",
      "days_employed       2174\n",
      "dob_years              0\n",
      "education              0\n",
      "education_id           0\n",
      "family_status          0\n",
      "family_status_id       0\n",
      "gender                 0\n",
      "income_type            0\n",
      "debt                   0\n",
      "total_income        2174\n",
      "purpose                0\n",
      "dtype: int64\n"
     ]
    }
   ],
   "source": [
    "# Поищем пропущенные значения\n",
    "print(credit_scoring.isnull().sum())"
   ]
  },
  {
   "cell_type": "markdown",
   "metadata": {},
   "source": [
    "### Вывод"
   ]
  },
  {
   "cell_type": "markdown",
   "metadata": {},
   "source": [
    "Для решения поставленной задачи загружен файл 'data.csv' с данными. Получена таблица из 12 столбцов, 21225 строк. В столбцах days_employed и total_income имеются пропуски. Количество пропусков посчитано методом .isnull().sum(). В столбце days_employed встречаются как отрицательные, так и положительные значения. "
   ]
  },
  {
   "cell_type": "markdown",
   "metadata": {},
   "source": [
    "### Шаг 2. Предобработка данных"
   ]
  },
  {
   "cell_type": "markdown",
   "metadata": {},
   "source": [
    "### Обработка пропусков"
   ]
  },
  {
   "cell_type": "code",
   "execution_count": 4,
   "metadata": {},
   "outputs": [
    {
     "name": "stdout",
     "output_type": "stream",
     "text": [
      "<class 'pandas.core.frame.DataFrame'>\n",
      "RangeIndex: 21525 entries, 0 to 21524\n",
      "Data columns (total 12 columns):\n",
      " #   Column            Non-Null Count  Dtype  \n",
      "---  ------            --------------  -----  \n",
      " 0   children          21525 non-null  int64  \n",
      " 1   days_employed     21525 non-null  float64\n",
      " 2   dob_years         21525 non-null  int64  \n",
      " 3   education         21525 non-null  object \n",
      " 4   education_id      21525 non-null  int64  \n",
      " 5   family_status     21525 non-null  object \n",
      " 6   family_status_id  21525 non-null  int64  \n",
      " 7   gender            21525 non-null  object \n",
      " 8   income_type       21525 non-null  object \n",
      " 9   debt              21525 non-null  int64  \n",
      " 10  total_income      21525 non-null  float64\n",
      " 11  purpose           21525 non-null  object \n",
      "dtypes: float64(2), int64(5), object(5)\n",
      "memory usage: 2.0+ MB\n"
     ]
    },
    {
     "data": {
      "text/html": [
       "<div>\n",
       "<style scoped>\n",
       "    .dataframe tbody tr th:only-of-type {\n",
       "        vertical-align: middle;\n",
       "    }\n",
       "\n",
       "    .dataframe tbody tr th {\n",
       "        vertical-align: top;\n",
       "    }\n",
       "\n",
       "    .dataframe thead th {\n",
       "        text-align: right;\n",
       "    }\n",
       "</style>\n",
       "<table border=\"1\" class=\"dataframe\">\n",
       "  <thead>\n",
       "    <tr style=\"text-align: right;\">\n",
       "      <th></th>\n",
       "      <th>children</th>\n",
       "      <th>days_employed</th>\n",
       "      <th>dob_years</th>\n",
       "      <th>education</th>\n",
       "      <th>education_id</th>\n",
       "      <th>family_status</th>\n",
       "      <th>family_status_id</th>\n",
       "      <th>gender</th>\n",
       "      <th>income_type</th>\n",
       "      <th>debt</th>\n",
       "      <th>total_income</th>\n",
       "      <th>purpose</th>\n",
       "    </tr>\n",
       "  </thead>\n",
       "  <tbody>\n",
       "    <tr>\n",
       "      <th>305</th>\n",
       "      <td>2</td>\n",
       "      <td>-7381.422129</td>\n",
       "      <td>36</td>\n",
       "      <td>среднее</td>\n",
       "      <td>1</td>\n",
       "      <td>в разводе</td>\n",
       "      <td>3</td>\n",
       "      <td>F</td>\n",
       "      <td>сотрудник</td>\n",
       "      <td>1</td>\n",
       "      <td>45033.203067</td>\n",
       "      <td>недвижимость</td>\n",
       "    </tr>\n",
       "    <tr>\n",
       "      <th>16777</th>\n",
       "      <td>2</td>\n",
       "      <td>-4973.693154</td>\n",
       "      <td>46</td>\n",
       "      <td>Высшее</td>\n",
       "      <td>0</td>\n",
       "      <td>женат / замужем</td>\n",
       "      <td>0</td>\n",
       "      <td>F</td>\n",
       "      <td>сотрудник</td>\n",
       "      <td>0</td>\n",
       "      <td>108804.240185</td>\n",
       "      <td>строительство недвижимости</td>\n",
       "    </tr>\n",
       "    <tr>\n",
       "      <th>767</th>\n",
       "      <td>0</td>\n",
       "      <td>367177.825355</td>\n",
       "      <td>59</td>\n",
       "      <td>среднее</td>\n",
       "      <td>1</td>\n",
       "      <td>вдовец / вдова</td>\n",
       "      <td>2</td>\n",
       "      <td>F</td>\n",
       "      <td>пенсионер</td>\n",
       "      <td>0</td>\n",
       "      <td>205155.961397</td>\n",
       "      <td>жилье</td>\n",
       "    </tr>\n",
       "    <tr>\n",
       "      <th>16768</th>\n",
       "      <td>0</td>\n",
       "      <td>-3229.254557</td>\n",
       "      <td>45</td>\n",
       "      <td>среднее</td>\n",
       "      <td>1</td>\n",
       "      <td>в разводе</td>\n",
       "      <td>3</td>\n",
       "      <td>F</td>\n",
       "      <td>госслужащий</td>\n",
       "      <td>0</td>\n",
       "      <td>183895.525945</td>\n",
       "      <td>высшее образование</td>\n",
       "    </tr>\n",
       "    <tr>\n",
       "      <th>4053</th>\n",
       "      <td>0</td>\n",
       "      <td>-2761.778537</td>\n",
       "      <td>29</td>\n",
       "      <td>ВЫСШЕЕ</td>\n",
       "      <td>0</td>\n",
       "      <td>женат / замужем</td>\n",
       "      <td>0</td>\n",
       "      <td>M</td>\n",
       "      <td>компаньон</td>\n",
       "      <td>0</td>\n",
       "      <td>262944.626017</td>\n",
       "      <td>образование</td>\n",
       "    </tr>\n",
       "  </tbody>\n",
       "</table>\n",
       "</div>"
      ],
      "text/plain": [
       "       children  days_employed  dob_years education  education_id  \\\n",
       "305           2   -7381.422129         36   среднее             1   \n",
       "16777         2   -4973.693154         46    Высшее             0   \n",
       "767           0  367177.825355         59   среднее             1   \n",
       "16768         0   -3229.254557         45   среднее             1   \n",
       "4053          0   -2761.778537         29    ВЫСШЕЕ             0   \n",
       "\n",
       "         family_status  family_status_id gender  income_type  debt  \\\n",
       "305          в разводе                 3      F    сотрудник     1   \n",
       "16777  женат / замужем                 0      F    сотрудник     0   \n",
       "767     вдовец / вдова                 2      F    пенсионер     0   \n",
       "16768        в разводе                 3      F  госслужащий     0   \n",
       "4053   женат / замужем                 0      M    компаньон     0   \n",
       "\n",
       "        total_income                     purpose  \n",
       "305     45033.203067                недвижимость  \n",
       "16777  108804.240185  строительство недвижимости  \n",
       "767    205155.961397                       жилье  \n",
       "16768  183895.525945          высшее образование  \n",
       "4053   262944.626017                 образование  "
      ]
     },
     "execution_count": 4,
     "metadata": {},
     "output_type": "execute_result"
    }
   ],
   "source": [
    "# Обработка обнаруженных пропусков\n",
    "# Пропуски в общем трудовом стаже можно заполнить средними значениями\n",
    "days_employed_mean = credit_scoring['days_employed'].mean()\n",
    "credit_scoring['days_employed'] = credit_scoring['days_employed'].fillna(\n",
    "    value=days_employed_mean)\n",
    "\n",
    "# Пропуски в столбце Ежемесячный доход заполним медианами\n",
    "median_incomes = credit_scoring.groupby('income_type')['total_income'].median()\n",
    "\n",
    "\n",
    "def filler_func(row):\n",
    "    if pd.isna(row['total_income']):\n",
    "        return median_incomes[row['income_type']]\n",
    "    return row['total_income']\n",
    "\n",
    "\n",
    "credit_scoring['total_income'] = credit_scoring.apply(filler_func, axis=1)\n",
    "\n",
    "credit_scoring.info()\n",
    "credit_scoring.sample(5)"
   ]
  },
  {
   "cell_type": "markdown",
   "metadata": {},
   "source": [
    "### Вывод"
   ]
  },
  {
   "cell_type": "markdown",
   "metadata": {},
   "source": [
    "В полученной таблице обнаружены пропуски в столбцах 'days_employed' и 'total_income'. Эти пропуски имеют следующую зависимость: если в столбце 'days_employed' стоит пропуск, так же пропуск обнаруживается в столбце 'total_income'. Вероятно это случайная ошибка, произошедшая при выгрузке данных. Значения в столбце 'days_employed' никак не влияют на решение поставленной задачи, поэтому были заполнены средним значением по столбцу. Пропуски в столбце 'total_income' заполнены медианными значениями по группам 'income_type', поскольку значение суммарного дохода необходимо знать для верного решения задачи."
   ]
  },
  {
   "cell_type": "markdown",
   "metadata": {},
   "source": [
    "### Замена типа данных"
   ]
  },
  {
   "cell_type": "code",
   "execution_count": 5,
   "metadata": {},
   "outputs": [
    {
     "data": {
      "text/html": [
       "<div>\n",
       "<style scoped>\n",
       "    .dataframe tbody tr th:only-of-type {\n",
       "        vertical-align: middle;\n",
       "    }\n",
       "\n",
       "    .dataframe tbody tr th {\n",
       "        vertical-align: top;\n",
       "    }\n",
       "\n",
       "    .dataframe thead th {\n",
       "        text-align: right;\n",
       "    }\n",
       "</style>\n",
       "<table border=\"1\" class=\"dataframe\">\n",
       "  <thead>\n",
       "    <tr style=\"text-align: right;\">\n",
       "      <th></th>\n",
       "      <th>children</th>\n",
       "      <th>days_employed</th>\n",
       "      <th>dob_years</th>\n",
       "      <th>education</th>\n",
       "      <th>education_id</th>\n",
       "      <th>family_status</th>\n",
       "      <th>family_status_id</th>\n",
       "      <th>gender</th>\n",
       "      <th>income_type</th>\n",
       "      <th>debt</th>\n",
       "      <th>total_income</th>\n",
       "      <th>purpose</th>\n",
       "    </tr>\n",
       "  </thead>\n",
       "  <tbody>\n",
       "    <tr>\n",
       "      <th>6421</th>\n",
       "      <td>0</td>\n",
       "      <td>-428</td>\n",
       "      <td>32</td>\n",
       "      <td>высшее</td>\n",
       "      <td>0</td>\n",
       "      <td>гражданский брак</td>\n",
       "      <td>1</td>\n",
       "      <td>M</td>\n",
       "      <td>сотрудник</td>\n",
       "      <td>0</td>\n",
       "      <td>312283</td>\n",
       "      <td>сделка с подержанным автомобилем</td>\n",
       "    </tr>\n",
       "    <tr>\n",
       "      <th>17337</th>\n",
       "      <td>0</td>\n",
       "      <td>333488</td>\n",
       "      <td>67</td>\n",
       "      <td>среднее</td>\n",
       "      <td>1</td>\n",
       "      <td>женат / замужем</td>\n",
       "      <td>0</td>\n",
       "      <td>F</td>\n",
       "      <td>пенсионер</td>\n",
       "      <td>0</td>\n",
       "      <td>455052</td>\n",
       "      <td>покупка своего жилья</td>\n",
       "    </tr>\n",
       "    <tr>\n",
       "      <th>4197</th>\n",
       "      <td>0</td>\n",
       "      <td>63046</td>\n",
       "      <td>22</td>\n",
       "      <td>высшее</td>\n",
       "      <td>0</td>\n",
       "      <td>гражданский брак</td>\n",
       "      <td>1</td>\n",
       "      <td>F</td>\n",
       "      <td>компаньон</td>\n",
       "      <td>0</td>\n",
       "      <td>172357</td>\n",
       "      <td>сыграть свадьбу</td>\n",
       "    </tr>\n",
       "    <tr>\n",
       "      <th>21066</th>\n",
       "      <td>1</td>\n",
       "      <td>-843</td>\n",
       "      <td>44</td>\n",
       "      <td>среднее</td>\n",
       "      <td>1</td>\n",
       "      <td>женат / замужем</td>\n",
       "      <td>0</td>\n",
       "      <td>M</td>\n",
       "      <td>сотрудник</td>\n",
       "      <td>0</td>\n",
       "      <td>85363</td>\n",
       "      <td>покупка жилья для сдачи</td>\n",
       "    </tr>\n",
       "    <tr>\n",
       "      <th>7480</th>\n",
       "      <td>0</td>\n",
       "      <td>-7865</td>\n",
       "      <td>47</td>\n",
       "      <td>Среднее</td>\n",
       "      <td>1</td>\n",
       "      <td>в разводе</td>\n",
       "      <td>3</td>\n",
       "      <td>F</td>\n",
       "      <td>сотрудник</td>\n",
       "      <td>0</td>\n",
       "      <td>72848</td>\n",
       "      <td>сделка с подержанным автомобилем</td>\n",
       "    </tr>\n",
       "  </tbody>\n",
       "</table>\n",
       "</div>"
      ],
      "text/plain": [
       "       children  days_employed  dob_years education  education_id  \\\n",
       "6421          0           -428         32    высшее             0   \n",
       "17337         0         333488         67   среднее             1   \n",
       "4197          0          63046         22    высшее             0   \n",
       "21066         1           -843         44   среднее             1   \n",
       "7480          0          -7865         47   Среднее             1   \n",
       "\n",
       "          family_status  family_status_id gender income_type  debt  \\\n",
       "6421   гражданский брак                 1      M   сотрудник     0   \n",
       "17337   женат / замужем                 0      F   пенсионер     0   \n",
       "4197   гражданский брак                 1      F   компаньон     0   \n",
       "21066   женат / замужем                 0      M   сотрудник     0   \n",
       "7480          в разводе                 3      F   сотрудник     0   \n",
       "\n",
       "       total_income                           purpose  \n",
       "6421         312283  сделка с подержанным автомобилем  \n",
       "17337        455052              покупка своего жилья  \n",
       "4197         172357                   сыграть свадьбу  \n",
       "21066         85363           покупка жилья для сдачи  \n",
       "7480          72848  сделка с подержанным автомобилем  "
      ]
     },
     "metadata": {},
     "output_type": "display_data"
    }
   ],
   "source": [
    "# выполним замену методом .astype()\n",
    "credit_scoring['days_employed'] = credit_scoring['days_employed'].astype('int')\n",
    "credit_scoring['total_income'] = credit_scoring['total_income'].astype('int')\n",
    "display(credit_scoring.sample(5))"
   ]
  },
  {
   "cell_type": "markdown",
   "metadata": {},
   "source": [
    "### Вывод"
   ]
  },
  {
   "cell_type": "markdown",
   "metadata": {},
   "source": [
    "На данном этапе проведена замена вещественного типа данных на целочисленный в столбцах 'days_employed' и 'total_income'. Для вышеуказанных данных удобнее всего применять метод .astype(), поскольку преобразуем числовые данные в числовые. Метод to_numeric() на данном этапе не применим, поскольку применяется для преобразования данных типа object в тип float64."
   ]
  },
  {
   "cell_type": "markdown",
   "metadata": {},
   "source": [
    "### Обработка дубликатов"
   ]
  },
  {
   "cell_type": "code",
   "execution_count": 6,
   "metadata": {},
   "outputs": [
    {
     "data": {
      "text/plain": [
       "среднее                13750\n",
       "высшее                  4718\n",
       "СРЕДНЕЕ                  772\n",
       "Среднее                  711\n",
       "неоконченное высшее      668\n",
       "ВЫСШЕЕ                   274\n",
       "Высшее                   268\n",
       "начальное                250\n",
       "Неоконченное высшее       47\n",
       "НЕОКОНЧЕННОЕ ВЫСШЕЕ       29\n",
       "НАЧАЛЬНОЕ                 17\n",
       "Начальное                 15\n",
       "ученая степень             4\n",
       "УЧЕНАЯ СТЕПЕНЬ             1\n",
       "Ученая степень             1\n",
       "Name: education, dtype: int64"
      ]
     },
     "metadata": {},
     "output_type": "display_data"
    },
    {
     "data": {
      "text/plain": [
       "женат / замужем          12380\n",
       "гражданский брак          4177\n",
       "Не женат / не замужем     2813\n",
       "в разводе                 1195\n",
       "вдовец / вдова             960\n",
       "Name: family_status, dtype: int64"
      ]
     },
     "metadata": {},
     "output_type": "display_data"
    },
    {
     "data": {
      "text/plain": [
       "сотрудник          11119\n",
       "компаньон           5085\n",
       "пенсионер           3856\n",
       "госслужащий         1459\n",
       "предприниматель        2\n",
       "безработный            2\n",
       "в декрете              1\n",
       "студент                1\n",
       "Name: income_type, dtype: int64"
      ]
     },
     "metadata": {},
     "output_type": "display_data"
    },
    {
     "data": {
      "text/plain": [
       "свадьба                                   797\n",
       "на проведение свадьбы                     777\n",
       "сыграть свадьбу                           774\n",
       "операции с недвижимостью                  676\n",
       "покупка коммерческой недвижимости         664\n",
       "операции с жильем                         653\n",
       "покупка жилья для сдачи                   653\n",
       "операции с коммерческой недвижимостью     651\n",
       "жилье                                     647\n",
       "покупка жилья                             647\n",
       "покупка жилья для семьи                   641\n",
       "строительство собственной недвижимости    635\n",
       "недвижимость                              634\n",
       "операции со своей недвижимостью           630\n",
       "строительство жилой недвижимости          626\n",
       "покупка недвижимости                      624\n",
       "строительство недвижимости                620\n",
       "покупка своего жилья                      620\n",
       "ремонт жилью                              612\n",
       "покупка жилой недвижимости                607\n",
       "на покупку своего автомобиля              505\n",
       "заняться высшим образованием              496\n",
       "автомобиль                                495\n",
       "сделка с подержанным автомобилем          489\n",
       "свой автомобиль                           480\n",
       "на покупку подержанного автомобиля        479\n",
       "автомобили                                478\n",
       "на покупку автомобиля                     472\n",
       "дополнительное образование                462\n",
       "приобретение автомобиля                   462\n",
       "сделка с автомобилем                      455\n",
       "высшее образование                        453\n",
       "образование                               447\n",
       "получение дополнительного образования     447\n",
       "получение образования                     443\n",
       "профильное образование                    436\n",
       "получение высшего образования             426\n",
       "заняться образованием                     412\n",
       "Name: purpose, dtype: int64"
      ]
     },
     "metadata": {},
     "output_type": "display_data"
    },
    {
     "data": {
      "text/plain": [
       "среднее                15233\n",
       "высшее                  5260\n",
       "неоконченное высшее      744\n",
       "начальное                282\n",
       "ученая степень             6\n",
       "Name: education_lowercase, dtype: int64"
      ]
     },
     "metadata": {},
     "output_type": "display_data"
    }
   ],
   "source": [
    "# Поищем \"скрытые\" дубликаты\n",
    "display(credit_scoring['education'].value_counts())\n",
    "\n",
    "display(credit_scoring['family_status'].value_counts())\n",
    "\n",
    "display(credit_scoring['income_type'].value_counts())\n",
    "\n",
    "display(credit_scoring['purpose'].value_counts())\n",
    "\n",
    "# В столбце 'education' избавимся от них с помощью понижения регистра\n",
    "credit_scoring['education_lowercase'] = credit_scoring['education'].str.lower()\n",
    "display(credit_scoring['education_lowercase'].value_counts())"
   ]
  },
  {
   "cell_type": "code",
   "execution_count": 7,
   "metadata": {
    "scrolled": false
   },
   "outputs": [
    {
     "data": {
      "text/plain": [
       "54"
      ]
     },
     "metadata": {},
     "output_type": "display_data"
    },
    {
     "name": "stdout",
     "output_type": "stream",
     "text": [
      "<class 'pandas.core.frame.DataFrame'>\n",
      "RangeIndex: 21471 entries, 0 to 21470\n",
      "Data columns (total 13 columns):\n",
      " #   Column               Non-Null Count  Dtype \n",
      "---  ------               --------------  ----- \n",
      " 0   children             21471 non-null  int64 \n",
      " 1   days_employed        21471 non-null  int32 \n",
      " 2   dob_years            21471 non-null  int64 \n",
      " 3   education            21471 non-null  object\n",
      " 4   education_id         21471 non-null  int64 \n",
      " 5   family_status        21471 non-null  object\n",
      " 6   family_status_id     21471 non-null  int64 \n",
      " 7   gender               21471 non-null  object\n",
      " 8   income_type          21471 non-null  object\n",
      " 9   debt                 21471 non-null  int64 \n",
      " 10  total_income         21471 non-null  int32 \n",
      " 11  purpose              21471 non-null  object\n",
      " 12  education_lowercase  21471 non-null  object\n",
      "dtypes: int32(2), int64(5), object(6)\n",
      "memory usage: 2.0+ MB\n"
     ]
    }
   ],
   "source": [
    "# Поищем явные дубликаты и избавимся от них\n",
    "display(credit_scoring.duplicated().sum())\n",
    "credit_scoring = credit_scoring.drop_duplicates().reset_index(drop=True)\n",
    "\n",
    "credit_scoring.info()"
   ]
  },
  {
   "cell_type": "markdown",
   "metadata": {},
   "source": [
    "### Вывод"
   ]
  },
  {
   "cell_type": "markdown",
   "metadata": {},
   "source": [
    "Для поиска дубликатов был использован метод value_counts(), возвращающий уникальные значения с подсчетом частоты их появления. Применение метода duplicated не представляется возможным, так как изучать таблицу с булевыми значениями на 21525 строк совершенно не рационально. В сочетании с методом sum() метод неинформативен.\n",
    "Ручной поиск дубликатов в столбцах 'education', 'family_status', 'income_type', 'purpose' дал следующие результаты:\n",
    "1) в столбцах 'family_status', 'income_type' дубликаты отсутствуют;\n",
    "2) в столбце 'education' от дубликатов можно избавиться снижением регистра;\n",
    "3) в столбце 'purpose' обнаружено значительное количество дубликатов. Избавиться от них возможно методом лемматизации \n",
    "\n",
    "Выполнен поиск дубликатов и применен метод drop_duplicates().sum()"
   ]
  },
  {
   "cell_type": "markdown",
   "metadata": {},
   "source": [
    "### Лемматизация"
   ]
  },
  {
   "cell_type": "code",
   "execution_count": 8,
   "metadata": {},
   "outputs": [
    {
     "data": {
      "text/plain": [
       "array(['покупка жилья', 'приобретение автомобиля',\n",
       "       'дополнительное образование', 'сыграть свадьбу',\n",
       "       'операции с жильем', 'образование', 'на проведение свадьбы',\n",
       "       'покупка жилья для семьи', 'покупка недвижимости',\n",
       "       'покупка коммерческой недвижимости', 'покупка жилой недвижимости',\n",
       "       'строительство собственной недвижимости', 'недвижимость',\n",
       "       'строительство недвижимости', 'на покупку подержанного автомобиля',\n",
       "       'на покупку своего автомобиля',\n",
       "       'операции с коммерческой недвижимостью',\n",
       "       'строительство жилой недвижимости', 'жилье',\n",
       "       'операции со своей недвижимостью', 'автомобили',\n",
       "       'заняться образованием', 'сделка с подержанным автомобилем',\n",
       "       'получение образования', 'автомобиль', 'свадьба',\n",
       "       'получение дополнительного образования', 'покупка своего жилья',\n",
       "       'операции с недвижимостью', 'получение высшего образования',\n",
       "       'свой автомобиль', 'сделка с автомобилем',\n",
       "       'профильное образование', 'высшее образование',\n",
       "       'покупка жилья для сдачи', 'на покупку автомобиля', 'ремонт жилью',\n",
       "       'заняться высшим образованием'], dtype=object)"
      ]
     },
     "metadata": {},
     "output_type": "display_data"
    }
   ],
   "source": [
    "# Создадим список со значениями столбца purpose для ускорения лемматизации\n",
    "purpose_list = credit_scoring['purpose'].unique()\n",
    "display(purpose_list)"
   ]
  },
  {
   "cell_type": "code",
   "execution_count": 9,
   "metadata": {},
   "outputs": [
    {
     "data": {
      "text/plain": [
       "[['покупка', ' ', 'жилье', '\\n'],\n",
       " ['приобретение', ' ', 'автомобиль', '\\n'],\n",
       " ['дополнительный', ' ', 'образование', '\\n'],\n",
       " ['сыграть', ' ', 'свадьба', '\\n'],\n",
       " ['операция', ' ', 'с', ' ', 'жилье', '\\n'],\n",
       " ['образование', '\\n'],\n",
       " ['на', ' ', 'проведение', ' ', 'свадьба', '\\n'],\n",
       " ['покупка', ' ', 'жилье', ' ', 'для', ' ', 'семья', '\\n'],\n",
       " ['покупка', ' ', 'недвижимость', '\\n'],\n",
       " ['покупка', ' ', 'коммерческий', ' ', 'недвижимость', '\\n'],\n",
       " ['покупка', ' ', 'жилой', ' ', 'недвижимость', '\\n'],\n",
       " ['строительство', ' ', 'собственный', ' ', 'недвижимость', '\\n'],\n",
       " ['недвижимость', '\\n'],\n",
       " ['строительство', ' ', 'недвижимость', '\\n'],\n",
       " ['на', ' ', 'покупка', ' ', 'подержать', ' ', 'автомобиль', '\\n'],\n",
       " ['на', ' ', 'покупка', ' ', 'свой', ' ', 'автомобиль', '\\n'],\n",
       " ['операция', ' ', 'с', ' ', 'коммерческий', ' ', 'недвижимость', '\\n'],\n",
       " ['строительство', ' ', 'жилой', ' ', 'недвижимость', '\\n'],\n",
       " ['жилье', '\\n'],\n",
       " ['операция', ' ', 'со', ' ', 'свой', ' ', 'недвижимость', '\\n'],\n",
       " ['автомобиль', '\\n'],\n",
       " ['заниматься', ' ', 'образование', '\\n'],\n",
       " ['сделка', ' ', 'с', ' ', 'подержанный', ' ', 'автомобиль', '\\n'],\n",
       " ['получение', ' ', 'образование', '\\n'],\n",
       " ['автомобиль', '\\n'],\n",
       " ['свадьба', '\\n'],\n",
       " ['получение', ' ', 'дополнительный', ' ', 'образование', '\\n'],\n",
       " ['покупка', ' ', 'свой', ' ', 'жилье', '\\n'],\n",
       " ['операция', ' ', 'с', ' ', 'недвижимость', '\\n'],\n",
       " ['получение', ' ', 'высокий', ' ', 'образование', '\\n'],\n",
       " ['свой', ' ', 'автомобиль', '\\n'],\n",
       " ['сделка', ' ', 'с', ' ', 'автомобиль', '\\n'],\n",
       " ['профильный', ' ', 'образование', '\\n'],\n",
       " ['высокий', ' ', 'образование', '\\n'],\n",
       " ['покупка', ' ', 'жилье', ' ', 'для', ' ', 'сдача', '\\n'],\n",
       " ['на', ' ', 'покупка', ' ', 'автомобиль', '\\n'],\n",
       " ['ремонт', ' ', 'жилье', '\\n'],\n",
       " ['заниматься', ' ', 'высокий', ' ', 'образование', '\\n']]"
      ]
     },
     "metadata": {},
     "output_type": "display_data"
    }
   ],
   "source": [
    "# Выполним лемматизацию\n",
    "lemmas = []\n",
    "\n",
    "for i in range(38):\n",
    "    lemmas.append(m.lemmatize(purpose_list[i]))\n",
    "\n",
    "display(lemmas)"
   ]
  },
  {
   "cell_type": "code",
   "execution_count": 10,
   "metadata": {},
   "outputs": [],
   "source": [
    "# Создадим словарь по результатам проведенной лемматизации\n",
    "lemm_dict = dict(zip(purpose_list, lemmas))"
   ]
  },
  {
   "cell_type": "code",
   "execution_count": 11,
   "metadata": {},
   "outputs": [
    {
     "data": {
      "text/html": [
       "<div>\n",
       "<style scoped>\n",
       "    .dataframe tbody tr th:only-of-type {\n",
       "        vertical-align: middle;\n",
       "    }\n",
       "\n",
       "    .dataframe tbody tr th {\n",
       "        vertical-align: top;\n",
       "    }\n",
       "\n",
       "    .dataframe thead th {\n",
       "        text-align: right;\n",
       "    }\n",
       "</style>\n",
       "<table border=\"1\" class=\"dataframe\">\n",
       "  <thead>\n",
       "    <tr style=\"text-align: right;\">\n",
       "      <th></th>\n",
       "      <th>children</th>\n",
       "      <th>days_employed</th>\n",
       "      <th>dob_years</th>\n",
       "      <th>education</th>\n",
       "      <th>education_id</th>\n",
       "      <th>family_status</th>\n",
       "      <th>family_status_id</th>\n",
       "      <th>gender</th>\n",
       "      <th>income_type</th>\n",
       "      <th>debt</th>\n",
       "      <th>total_income</th>\n",
       "      <th>purpose</th>\n",
       "      <th>education_lowercase</th>\n",
       "    </tr>\n",
       "  </thead>\n",
       "  <tbody>\n",
       "    <tr>\n",
       "      <th>11357</th>\n",
       "      <td>2</td>\n",
       "      <td>-228</td>\n",
       "      <td>29</td>\n",
       "      <td>среднее</td>\n",
       "      <td>1</td>\n",
       "      <td>женат / замужем</td>\n",
       "      <td>0</td>\n",
       "      <td>F</td>\n",
       "      <td>компаньон</td>\n",
       "      <td>0</td>\n",
       "      <td>130334</td>\n",
       "      <td>[получение,  , высокий,  , образование, \\n]</td>\n",
       "      <td>среднее</td>\n",
       "    </tr>\n",
       "    <tr>\n",
       "      <th>18051</th>\n",
       "      <td>1</td>\n",
       "      <td>-1822</td>\n",
       "      <td>27</td>\n",
       "      <td>среднее</td>\n",
       "      <td>1</td>\n",
       "      <td>гражданский брак</td>\n",
       "      <td>1</td>\n",
       "      <td>F</td>\n",
       "      <td>сотрудник</td>\n",
       "      <td>0</td>\n",
       "      <td>107884</td>\n",
       "      <td>[сыграть,  , свадьба, \\n]</td>\n",
       "      <td>среднее</td>\n",
       "    </tr>\n",
       "    <tr>\n",
       "      <th>12815</th>\n",
       "      <td>0</td>\n",
       "      <td>-1702</td>\n",
       "      <td>25</td>\n",
       "      <td>среднее</td>\n",
       "      <td>1</td>\n",
       "      <td>женат / замужем</td>\n",
       "      <td>0</td>\n",
       "      <td>M</td>\n",
       "      <td>компаньон</td>\n",
       "      <td>0</td>\n",
       "      <td>168348</td>\n",
       "      <td>[образование, \\n]</td>\n",
       "      <td>среднее</td>\n",
       "    </tr>\n",
       "    <tr>\n",
       "      <th>7354</th>\n",
       "      <td>0</td>\n",
       "      <td>354169</td>\n",
       "      <td>56</td>\n",
       "      <td>среднее</td>\n",
       "      <td>1</td>\n",
       "      <td>женат / замужем</td>\n",
       "      <td>0</td>\n",
       "      <td>F</td>\n",
       "      <td>пенсионер</td>\n",
       "      <td>0</td>\n",
       "      <td>62218</td>\n",
       "      <td>[получение,  , дополнительный,  , образование,...</td>\n",
       "      <td>среднее</td>\n",
       "    </tr>\n",
       "    <tr>\n",
       "      <th>18520</th>\n",
       "      <td>0</td>\n",
       "      <td>63046</td>\n",
       "      <td>54</td>\n",
       "      <td>ВЫСШЕЕ</td>\n",
       "      <td>0</td>\n",
       "      <td>женат / замужем</td>\n",
       "      <td>0</td>\n",
       "      <td>M</td>\n",
       "      <td>пенсионер</td>\n",
       "      <td>0</td>\n",
       "      <td>118514</td>\n",
       "      <td>[заниматься,  , образование, \\n]</td>\n",
       "      <td>высшее</td>\n",
       "    </tr>\n",
       "  </tbody>\n",
       "</table>\n",
       "</div>"
      ],
      "text/plain": [
       "       children  days_employed  dob_years education  education_id  \\\n",
       "11357         2           -228         29   среднее             1   \n",
       "18051         1          -1822         27   среднее             1   \n",
       "12815         0          -1702         25   среднее             1   \n",
       "7354          0         354169         56   среднее             1   \n",
       "18520         0          63046         54    ВЫСШЕЕ             0   \n",
       "\n",
       "          family_status  family_status_id gender income_type  debt  \\\n",
       "11357   женат / замужем                 0      F   компаньон     0   \n",
       "18051  гражданский брак                 1      F   сотрудник     0   \n",
       "12815   женат / замужем                 0      M   компаньон     0   \n",
       "7354    женат / замужем                 0      F   пенсионер     0   \n",
       "18520   женат / замужем                 0      M   пенсионер     0   \n",
       "\n",
       "       total_income                                            purpose  \\\n",
       "11357        130334        [получение,  , высокий,  , образование, \\n]   \n",
       "18051        107884                          [сыграть,  , свадьба, \\n]   \n",
       "12815        168348                                  [образование, \\n]   \n",
       "7354          62218  [получение,  , дополнительный,  , образование,...   \n",
       "18520        118514                   [заниматься,  , образование, \\n]   \n",
       "\n",
       "      education_lowercase  \n",
       "11357             среднее  \n",
       "18051             среднее  \n",
       "12815             среднее  \n",
       "7354              среднее  \n",
       "18520              высшее  "
      ]
     },
     "metadata": {},
     "output_type": "display_data"
    }
   ],
   "source": [
    "# Заменим значения столбца purpose на лемматизированные\n",
    "credit_scoring['purpose'] = credit_scoring['purpose'].map(lemm_dict)\n",
    "display(credit_scoring.sample(5))"
   ]
  },
  {
   "cell_type": "code",
   "execution_count": 12,
   "metadata": {},
   "outputs": [
    {
     "name": "stdout",
     "output_type": "stream",
     "text": [
      "<class 'pandas.core.frame.DataFrame'>\n",
      "RangeIndex: 21471 entries, 0 to 21470\n",
      "Data columns (total 14 columns):\n",
      " #   Column               Non-Null Count  Dtype \n",
      "---  ------               --------------  ----- \n",
      " 0   children             21471 non-null  int64 \n",
      " 1   days_employed        21471 non-null  int32 \n",
      " 2   dob_years            21471 non-null  int64 \n",
      " 3   education            21471 non-null  object\n",
      " 4   education_id         21471 non-null  int64 \n",
      " 5   family_status        21471 non-null  object\n",
      " 6   family_status_id     21471 non-null  int64 \n",
      " 7   gender               21471 non-null  object\n",
      " 8   income_type          21471 non-null  object\n",
      " 9   debt                 21471 non-null  int64 \n",
      " 10  total_income         21471 non-null  int32 \n",
      " 11  purpose              21471 non-null  object\n",
      " 12  education_lowercase  21471 non-null  object\n",
      " 13  updated_purpose      21471 non-null  object\n",
      "dtypes: int32(2), int64(5), object(7)\n",
      "memory usage: 2.1+ MB\n"
     ]
    },
    {
     "data": {
      "text/plain": [
       "недвижимость    10814\n",
       "автомобиль       4308\n",
       "образование      4014\n",
       "свадьба          2335\n",
       "Name: updated_purpose, dtype: int64"
      ]
     },
     "metadata": {},
     "output_type": "display_data"
    }
   ],
   "source": [
    "# Создадим функцию для создания столбца upgraded_purpose\n",
    "# с лемматизированными значениями целей кредита\n",
    "\n",
    "def updating_purpose(row):\n",
    "    if 'свадьба' in row['purpose']:\n",
    "        return 'свадьба'\n",
    "    elif 'автомобиль' in row['purpose']:\n",
    "        return 'автомобиль'\n",
    "    elif 'недвижимость' in row['purpose']:\n",
    "        return 'недвижимость'\n",
    "    elif 'жилье' in row['purpose']:\n",
    "        return 'недвижимость'\n",
    "    elif 'образование' in row['purpose']:\n",
    "        return 'образование'\n",
    "\n",
    "\n",
    "credit_scoring['updated_purpose'] = credit_scoring.apply(\n",
    "    updating_purpose, axis=1)\n",
    "credit_scoring.info()\n",
    "\n",
    "display(credit_scoring['updated_purpose'].value_counts())"
   ]
  },
  {
   "cell_type": "code",
   "execution_count": 13,
   "metadata": {},
   "outputs": [],
   "source": [
    "# Последним шагом удалим столбец с леммами целей кредита\n",
    "credit_scoring = credit_scoring.drop('purpose', axis=1)"
   ]
  },
  {
   "cell_type": "markdown",
   "metadata": {},
   "source": [
    "### Вывод"
   ]
  },
  {
   "cell_type": "markdown",
   "metadata": {},
   "source": [
    "Проведена лемматизация данных столбца 'purpose'. Результатом получен столбец с обновленными данными по целям получения кредитов - 'updated_purpose'. Комментарий: леммы 'недвижимость' и 'жилье' объединены в общее наименование 'недвижимость' для цели кредита. Леммы 'автомобиль','свадьба' и 'образование' были взяты без изменений. Методом value_counts() посчитаны уникальные данные полученного столбца. "
   ]
  },
  {
   "cell_type": "markdown",
   "metadata": {},
   "source": [
    "### Категоризация данных"
   ]
  },
  {
   "cell_type": "code",
   "execution_count": 14,
   "metadata": {
    "scrolled": false
   },
   "outputs": [
    {
     "name": "stdout",
     "output_type": "stream",
     "text": [
      "--------------------------------------------------------------------------------------------------------\n",
      "<class 'pandas.core.frame.DataFrame'>\n",
      "RangeIndex: 19525 entries, 0 to 19524\n",
      "Data columns (total 9 columns):\n",
      " #   Column           Non-Null Count  Dtype \n",
      "---  ------           --------------  ----- \n",
      " 0   children         19525 non-null  int64 \n",
      " 1   family_status    19525 non-null  object\n",
      " 2   updated_purpose  19525 non-null  object\n",
      " 3   total_income     19525 non-null  int32 \n",
      " 4   debt             19525 non-null  int64 \n",
      " 5   children_status  19525 non-null  object\n",
      " 6   income_status    19525 non-null  object\n",
      " 7   marriage_status  19525 non-null  object\n",
      " 8   purpose_status   19525 non-null  object\n",
      "dtypes: int32(1), int64(2), object(6)\n",
      "memory usage: 1.3+ MB\n",
      "----------------------------------------------------------\n"
     ]
    },
    {
     "data": {
      "text/html": [
       "<div>\n",
       "<style scoped>\n",
       "    .dataframe tbody tr th:only-of-type {\n",
       "        vertical-align: middle;\n",
       "    }\n",
       "\n",
       "    .dataframe tbody tr th {\n",
       "        vertical-align: top;\n",
       "    }\n",
       "\n",
       "    .dataframe thead th {\n",
       "        text-align: right;\n",
       "    }\n",
       "</style>\n",
       "<table border=\"1\" class=\"dataframe\">\n",
       "  <thead>\n",
       "    <tr style=\"text-align: right;\">\n",
       "      <th></th>\n",
       "      <th>children</th>\n",
       "      <th>family_status</th>\n",
       "      <th>updated_purpose</th>\n",
       "      <th>total_income</th>\n",
       "      <th>debt</th>\n",
       "      <th>children_status</th>\n",
       "      <th>income_status</th>\n",
       "      <th>marriage_status</th>\n",
       "      <th>purpose_status</th>\n",
       "    </tr>\n",
       "  </thead>\n",
       "  <tbody>\n",
       "    <tr>\n",
       "      <th>0</th>\n",
       "      <td>1</td>\n",
       "      <td>женат / замужем</td>\n",
       "      <td>недвижимость</td>\n",
       "      <td>253875</td>\n",
       "      <td>0</td>\n",
       "      <td>с детьми</td>\n",
       "      <td>высокий доход</td>\n",
       "      <td>в браке</td>\n",
       "      <td>первостепенная цель</td>\n",
       "    </tr>\n",
       "    <tr>\n",
       "      <th>1</th>\n",
       "      <td>1</td>\n",
       "      <td>женат / замужем</td>\n",
       "      <td>автомобиль</td>\n",
       "      <td>112080</td>\n",
       "      <td>0</td>\n",
       "      <td>с детьми</td>\n",
       "      <td>средний доход</td>\n",
       "      <td>в браке</td>\n",
       "      <td>второстепенная цель</td>\n",
       "    </tr>\n",
       "    <tr>\n",
       "      <th>2</th>\n",
       "      <td>0</td>\n",
       "      <td>женат / замужем</td>\n",
       "      <td>недвижимость</td>\n",
       "      <td>145885</td>\n",
       "      <td>0</td>\n",
       "      <td>без детей</td>\n",
       "      <td>средний доход</td>\n",
       "      <td>в браке</td>\n",
       "      <td>первостепенная цель</td>\n",
       "    </tr>\n",
       "    <tr>\n",
       "      <th>3</th>\n",
       "      <td>3</td>\n",
       "      <td>женат / замужем</td>\n",
       "      <td>образование</td>\n",
       "      <td>267628</td>\n",
       "      <td>0</td>\n",
       "      <td>многодетные</td>\n",
       "      <td>высокий доход</td>\n",
       "      <td>в браке</td>\n",
       "      <td>первостепенная цель</td>\n",
       "    </tr>\n",
       "    <tr>\n",
       "      <th>4</th>\n",
       "      <td>0</td>\n",
       "      <td>гражданский брак</td>\n",
       "      <td>свадьба</td>\n",
       "      <td>158616</td>\n",
       "      <td>0</td>\n",
       "      <td>без детей</td>\n",
       "      <td>средний доход</td>\n",
       "      <td>в браке</td>\n",
       "      <td>второстепенная цель</td>\n",
       "    </tr>\n",
       "  </tbody>\n",
       "</table>\n",
       "</div>"
      ],
      "text/plain": [
       "   children     family_status updated_purpose  total_income  debt  \\\n",
       "0         1   женат / замужем    недвижимость        253875     0   \n",
       "1         1   женат / замужем      автомобиль        112080     0   \n",
       "2         0   женат / замужем    недвижимость        145885     0   \n",
       "3         3   женат / замужем     образование        267628     0   \n",
       "4         0  гражданский брак         свадьба        158616     0   \n",
       "\n",
       "  children_status  income_status marriage_status       purpose_status  \n",
       "0        с детьми  высокий доход         в браке  первостепенная цель  \n",
       "1        с детьми  средний доход         в браке  второстепенная цель  \n",
       "2       без детей  средний доход         в браке  первостепенная цель  \n",
       "3     многодетные  высокий доход         в браке  первостепенная цель  \n",
       "4       без детей  средний доход         в браке  второстепенная цель  "
      ]
     },
     "metadata": {},
     "output_type": "display_data"
    }
   ],
   "source": [
    "# Проведем категоризацию данных\n",
    "credit_scoring_query = credit_scoring[[\n",
    "    'children', 'family_status', 'updated_purpose', 'total_income', 'debt']]\n",
    "\n",
    "credit_scoring_query.loc[credit_scoring_query['children'] < 0, 'children'] = 1\n",
    "credit_scoring_query.loc[credit_scoring_query['children']\n",
    "                         == 20, 'children'] = 2\n",
    "credit_scoring_query = credit_scoring_query.drop_duplicates().reset_index(drop=True)\n",
    "\n",
    "print('--------------------------------------------------------------------------------------------------------')\n",
    "\n",
    "\n",
    "def children_status(count1):\n",
    "    if count1 < 1:\n",
    "        return 'без детей'\n",
    "    elif count1 >= 3:\n",
    "        return 'многодетные'\n",
    "    return 'с детьми'\n",
    "\n",
    "\n",
    "credit_scoring_query['children_status'] = credit_scoring_query['children'].apply(\n",
    "    children_status)\n",
    "\n",
    "\n",
    "def income_status(count2):\n",
    "    if count2 < credit_scoring['total_income'].quantile(q=0.25):\n",
    "        return 'низкий доход'\n",
    "    if count2 >= credit_scoring['total_income'].quantile(q=0.75):\n",
    "        return 'высокий доход'\n",
    "    return 'средний доход'\n",
    "\n",
    "\n",
    "credit_scoring_query['income_status'] = credit_scoring_query['total_income'].apply(\n",
    "    income_status)\n",
    "\n",
    "\n",
    "def marriage_status(row):\n",
    "    if 'женат / замужем' in row['family_status']:\n",
    "        return 'в браке'\n",
    "    elif 'гражданский брак' in row['family_status']:\n",
    "        return 'в браке'\n",
    "    elif 'вдовец / вдова' in row['family_status']:\n",
    "        return 'не в браке'\n",
    "    elif 'в разводе' in row['family_status']:\n",
    "        return 'не в браке'\n",
    "    return 'не в браке'\n",
    "\n",
    "\n",
    "credit_scoring_query['marriage_status'] = credit_scoring_query.apply(\n",
    "    marriage_status, axis=1)\n",
    "\n",
    "\n",
    "def purpose_status(row):\n",
    "    if 'образование' in row['updated_purpose']:\n",
    "        return 'первостепенная цель'\n",
    "    elif 'жилье' in row['updated_purpose']:\n",
    "        return 'первостепенная цель'\n",
    "    elif 'недвижимость' in row['updated_purpose']:\n",
    "        return 'первостепенная цель'\n",
    "    return 'второстепенная цель'\n",
    "\n",
    "\n",
    "credit_scoring_query['purpose_status'] = credit_scoring_query.apply(\n",
    "    purpose_status, axis=1)\n",
    "\n",
    "credit_scoring_query.info()\n",
    "print('----------------------------------------------------------')\n",
    "display(credit_scoring_query.head())"
   ]
  },
  {
   "cell_type": "markdown",
   "metadata": {},
   "source": [
    "### Вывод"
   ]
  },
  {
   "cell_type": "markdown",
   "metadata": {},
   "source": [
    "На этапе выполнения этого задания в столбце 'children' были обнаружены артефакты '-1' и '20' и заменены на значения \"1\" и \"2\" соответственно. Данные ошибки тоже можно отнести к категории случайных при выгрузке исходных данных. Комментарий: семей с 20 детьми в мире очень мало, а пользователей кредитными продуктами банков еще меньше, поэтому число '20' заменено на '2'. Проведена категоризация по столбцам: 'children' - выбраны подкатегории 'без детей', 'с детьми' - 1-2 ребенка на семью и 'многодетные' - 3 ребенка и более на семью; 'total_income' - выбраны подкатегории 'низкий доход' с доходом менее 0.25 квантиля, 'высокий доход' - с доходом выше 0.75 квантиля, 'средний доход' - все остальные; 'family_status' - 'в браке' - для пар находящихся в официальном и гражданском браках, 'не в браке' - для всех остальных пар. Категоризация столбца 'updated_purpose' на подкатегории 'первостепенная цель' и 'второстепенная цель' при ответе на вопрос о зависимости между целью кредита и возвратом кредита в срок не даёт уточненной информации и в итоге просто использовалась для подсчета строк в сшитых таблицах."
   ]
  },
  {
   "cell_type": "markdown",
   "metadata": {},
   "source": [
    "### Шаг 3. Ответьте на вопросы"
   ]
  },
  {
   "cell_type": "markdown",
   "metadata": {},
   "source": [
    "- Есть ли зависимость между наличием детей и возвратом кредита в срок?"
   ]
  },
  {
   "cell_type": "code",
   "execution_count": 15,
   "metadata": {},
   "outputs": [
    {
     "data": {
      "text/html": [
       "<div>\n",
       "<style scoped>\n",
       "    .dataframe tbody tr th:only-of-type {\n",
       "        vertical-align: middle;\n",
       "    }\n",
       "\n",
       "    .dataframe tbody tr th {\n",
       "        vertical-align: top;\n",
       "    }\n",
       "\n",
       "    .dataframe thead th {\n",
       "        text-align: right;\n",
       "    }\n",
       "</style>\n",
       "<table border=\"1\" class=\"dataframe\">\n",
       "  <thead>\n",
       "    <tr style=\"text-align: right;\">\n",
       "      <th>debt</th>\n",
       "      <th>0</th>\n",
       "      <th>1</th>\n",
       "      <th>reliability</th>\n",
       "    </tr>\n",
       "    <tr>\n",
       "      <th>children_status</th>\n",
       "      <th></th>\n",
       "      <th></th>\n",
       "      <th></th>\n",
       "    </tr>\n",
       "  </thead>\n",
       "  <tbody>\n",
       "    <tr>\n",
       "      <th>без детей</th>\n",
       "      <td>11772</td>\n",
       "      <td>986</td>\n",
       "      <td>0.922715</td>\n",
       "    </tr>\n",
       "    <tr>\n",
       "      <th>многодетные</th>\n",
       "      <td>329</td>\n",
       "      <td>30</td>\n",
       "      <td>0.916435</td>\n",
       "    </tr>\n",
       "    <tr>\n",
       "      <th>с детьми</th>\n",
       "      <td>5784</td>\n",
       "      <td>624</td>\n",
       "      <td>0.902622</td>\n",
       "    </tr>\n",
       "  </tbody>\n",
       "</table>\n",
       "</div>"
      ],
      "text/plain": [
       "debt                 0    1  reliability\n",
       "children_status                         \n",
       "без детей        11772  986     0.922715\n",
       "многодетные        329   30     0.916435\n",
       "с детьми          5784  624     0.902622"
      ]
     },
     "metadata": {},
     "output_type": "display_data"
    },
    {
     "name": "stdout",
     "output_type": "stream",
     "text": [
      "-----------------------------------------------------\n"
     ]
    },
    {
     "data": {
      "text/html": [
       "<div>\n",
       "<style scoped>\n",
       "    .dataframe tbody tr th:only-of-type {\n",
       "        vertical-align: middle;\n",
       "    }\n",
       "\n",
       "    .dataframe tbody tr th {\n",
       "        vertical-align: top;\n",
       "    }\n",
       "\n",
       "    .dataframe thead th {\n",
       "        text-align: right;\n",
       "    }\n",
       "</style>\n",
       "<table border=\"1\" class=\"dataframe\">\n",
       "  <thead>\n",
       "    <tr style=\"text-align: right;\">\n",
       "      <th></th>\n",
       "      <th>debt</th>\n",
       "      <th>0</th>\n",
       "      <th>1</th>\n",
       "      <th>reliability</th>\n",
       "    </tr>\n",
       "    <tr>\n",
       "      <th>children_status</th>\n",
       "      <th>children</th>\n",
       "      <th></th>\n",
       "      <th></th>\n",
       "      <th></th>\n",
       "    </tr>\n",
       "  </thead>\n",
       "  <tbody>\n",
       "    <tr>\n",
       "      <th>без детей</th>\n",
       "      <th>0</th>\n",
       "      <td>11772.0</td>\n",
       "      <td>986.0</td>\n",
       "      <td>0.922715</td>\n",
       "    </tr>\n",
       "    <tr>\n",
       "      <th>многодетные</th>\n",
       "      <th>3</th>\n",
       "      <td>284.0</td>\n",
       "      <td>26.0</td>\n",
       "      <td>0.916129</td>\n",
       "    </tr>\n",
       "    <tr>\n",
       "      <th>с детьми</th>\n",
       "      <th>1</th>\n",
       "      <td>4020.0</td>\n",
       "      <td>428.0</td>\n",
       "      <td>0.903777</td>\n",
       "    </tr>\n",
       "    <tr>\n",
       "      <th>многодетные</th>\n",
       "      <th>4</th>\n",
       "      <td>36.0</td>\n",
       "      <td>4.0</td>\n",
       "      <td>0.900000</td>\n",
       "    </tr>\n",
       "    <tr>\n",
       "      <th>с детьми</th>\n",
       "      <th>2</th>\n",
       "      <td>1764.0</td>\n",
       "      <td>196.0</td>\n",
       "      <td>0.900000</td>\n",
       "    </tr>\n",
       "    <tr>\n",
       "      <th>многодетные</th>\n",
       "      <th>5</th>\n",
       "      <td>9.0</td>\n",
       "      <td>NaN</td>\n",
       "      <td>NaN</td>\n",
       "    </tr>\n",
       "  </tbody>\n",
       "</table>\n",
       "</div>"
      ],
      "text/plain": [
       "debt                            0      1  reliability\n",
       "children_status children                             \n",
       "без детей       0         11772.0  986.0     0.922715\n",
       "многодетные     3           284.0   26.0     0.916129\n",
       "с детьми        1          4020.0  428.0     0.903777\n",
       "многодетные     4            36.0    4.0     0.900000\n",
       "с детьми        2          1764.0  196.0     0.900000\n",
       "многодетные     5             9.0    NaN          NaN"
      ]
     },
     "metadata": {},
     "output_type": "display_data"
    }
   ],
   "source": [
    "children_debt1 = credit_scoring_query.pivot_table(\n",
    "    index=['children_status'], columns='debt', values='children', aggfunc='count')\n",
    "\n",
    "children_debt1['reliability'] = children_debt1[0] / \\\n",
    "    (children_debt1[1] + children_debt1[0])\n",
    "display(children_debt1.sort_values(by='reliability', ascending=False))\n",
    "print('-----------------------------------------------------')\n",
    "children_debt2 = credit_scoring_query.pivot_table(\n",
    "    index=['children_status', 'children'], columns='debt', values='marriage_status', aggfunc='count')\n",
    "children_debt2['reliability'] = children_debt2[0] / \\\n",
    "    (children_debt2[1] + children_debt2[0])\n",
    "display(children_debt2.sort_values(by='reliability', ascending=False))"
   ]
  },
  {
   "cell_type": "markdown",
   "metadata": {},
   "source": [
    "### Вывод"
   ]
  },
  {
   "cell_type": "markdown",
   "metadata": {},
   "source": [
    "Зависимость между наличием детей и сроком возврата кредита есть. В конечную таблицу добавлен условный параметр 'reliability' , который отражает надежность той или иной группы заемщиков. Семьи без детей являются наиболее надежными заемщиками - параметр надежности на уровне 92%, а семьи с детьми являются самыми ненадежными - показатель надежности на уровне 90 %. Для более точной информации о заемщиках с детьми создана еще одна таблица. По ней видно, что самыми надежными замщиками являются многодетные семьи с 3 детьми. Примерно на одном уровне находятся семьи с одним, двумя, четырьмя детьми. Для семей с 5 детьми и более получено значение NaN, однако этим значением можно пренебречь, поскольку таких семей всего 9 - менее 0,5 % от общего числа заемщиков. "
   ]
  },
  {
   "cell_type": "markdown",
   "metadata": {},
   "source": [
    "- Есть ли зависимость между семейным положением и возвратом кредита в срок?"
   ]
  },
  {
   "cell_type": "code",
   "execution_count": 16,
   "metadata": {},
   "outputs": [
    {
     "data": {
      "text/html": [
       "<div>\n",
       "<style scoped>\n",
       "    .dataframe tbody tr th:only-of-type {\n",
       "        vertical-align: middle;\n",
       "    }\n",
       "\n",
       "    .dataframe tbody tr th {\n",
       "        vertical-align: top;\n",
       "    }\n",
       "\n",
       "    .dataframe thead th {\n",
       "        text-align: right;\n",
       "    }\n",
       "</style>\n",
       "<table border=\"1\" class=\"dataframe\">\n",
       "  <thead>\n",
       "    <tr style=\"text-align: right;\">\n",
       "      <th>debt</th>\n",
       "      <th>0</th>\n",
       "      <th>1</th>\n",
       "      <th>reliability</th>\n",
       "    </tr>\n",
       "    <tr>\n",
       "      <th>marriage_status</th>\n",
       "      <th></th>\n",
       "      <th></th>\n",
       "      <th></th>\n",
       "    </tr>\n",
       "  </thead>\n",
       "  <tbody>\n",
       "    <tr>\n",
       "      <th>в браке</th>\n",
       "      <td>13735</td>\n",
       "      <td>1232</td>\n",
       "      <td>0.917686</td>\n",
       "    </tr>\n",
       "    <tr>\n",
       "      <th>не в браке</th>\n",
       "      <td>4150</td>\n",
       "      <td>408</td>\n",
       "      <td>0.910487</td>\n",
       "    </tr>\n",
       "  </tbody>\n",
       "</table>\n",
       "</div>"
      ],
      "text/plain": [
       "debt                 0     1  reliability\n",
       "marriage_status                          \n",
       "в браке          13735  1232     0.917686\n",
       "не в браке        4150   408     0.910487"
      ]
     },
     "metadata": {},
     "output_type": "display_data"
    },
    {
     "name": "stdout",
     "output_type": "stream",
     "text": [
      "--------------------------------------------------------------\n"
     ]
    },
    {
     "data": {
      "text/html": [
       "<div>\n",
       "<style scoped>\n",
       "    .dataframe tbody tr th:only-of-type {\n",
       "        vertical-align: middle;\n",
       "    }\n",
       "\n",
       "    .dataframe tbody tr th {\n",
       "        vertical-align: top;\n",
       "    }\n",
       "\n",
       "    .dataframe thead th {\n",
       "        text-align: right;\n",
       "    }\n",
       "</style>\n",
       "<table border=\"1\" class=\"dataframe\">\n",
       "  <thead>\n",
       "    <tr style=\"text-align: right;\">\n",
       "      <th></th>\n",
       "      <th>debt</th>\n",
       "      <th>0</th>\n",
       "      <th>1</th>\n",
       "      <th>reliability</th>\n",
       "    </tr>\n",
       "    <tr>\n",
       "      <th>marriage_status</th>\n",
       "      <th>family_status</th>\n",
       "      <th></th>\n",
       "      <th></th>\n",
       "      <th></th>\n",
       "    </tr>\n",
       "  </thead>\n",
       "  <tbody>\n",
       "    <tr>\n",
       "      <th rowspan=\"2\" valign=\"top\">не в браке</th>\n",
       "      <th>вдовец / вдова</th>\n",
       "      <td>821</td>\n",
       "      <td>61</td>\n",
       "      <td>0.930839</td>\n",
       "    </tr>\n",
       "    <tr>\n",
       "      <th>в разводе</th>\n",
       "      <td>1031</td>\n",
       "      <td>83</td>\n",
       "      <td>0.925494</td>\n",
       "    </tr>\n",
       "    <tr>\n",
       "      <th rowspan=\"2\" valign=\"top\">в браке</th>\n",
       "      <th>женат / замужем</th>\n",
       "      <td>10297</td>\n",
       "      <td>872</td>\n",
       "      <td>0.921927</td>\n",
       "    </tr>\n",
       "    <tr>\n",
       "      <th>гражданский брак</th>\n",
       "      <td>3438</td>\n",
       "      <td>360</td>\n",
       "      <td>0.905213</td>\n",
       "    </tr>\n",
       "    <tr>\n",
       "      <th>не в браке</th>\n",
       "      <th>Не женат / не замужем</th>\n",
       "      <td>2298</td>\n",
       "      <td>264</td>\n",
       "      <td>0.896956</td>\n",
       "    </tr>\n",
       "  </tbody>\n",
       "</table>\n",
       "</div>"
      ],
      "text/plain": [
       "debt                                       0    1  reliability\n",
       "marriage_status family_status                                 \n",
       "не в браке      вдовец / вдова           821   61     0.930839\n",
       "                в разводе               1031   83     0.925494\n",
       "в браке         женат / замужем        10297  872     0.921927\n",
       "                гражданский брак        3438  360     0.905213\n",
       "не в браке      Не женат / не замужем   2298  264     0.896956"
      ]
     },
     "metadata": {},
     "output_type": "display_data"
    }
   ],
   "source": [
    "family_debt1 = credit_scoring_query.pivot_table(\n",
    "    index=['marriage_status'], columns='debt', values='family_status', aggfunc='count')\n",
    "\n",
    "family_debt1['reliability'] = family_debt1[0] / \\\n",
    "    (family_debt1[0] + family_debt1[1])\n",
    "display(family_debt1.sort_values(by='reliability', ascending=False))\n",
    "print('--------------------------------------------------------------')\n",
    "family_debt2 = credit_scoring_query.pivot_table(\n",
    "    index=['marriage_status', 'family_status'], columns='debt', values='children_status', aggfunc='count')\n",
    "family_debt2['reliability'] = family_debt2[0] / \\\n",
    "    (family_debt2[0] + family_debt2[1])\n",
    "display(family_debt2.sort_values(by='reliability', ascending=False))"
   ]
  },
  {
   "cell_type": "markdown",
   "metadata": {},
   "source": [
    "### Вывод"
   ]
  },
  {
   "cell_type": "markdown",
   "metadata": {},
   "source": [
    "Зависимость между семейным положением и сроком возврата кредита есть. В конечную таблицу добавлен условный параметр 'reliability' , который отражает надежность той или иной группы заемщиков. Надежность пар, состоящих в браке, и пар, состоящих не в браке, находится на одном уровне - 91-92 %. Для более точной информации о заемщиках создана еще одна таблица, посмотрев на которую можно сделать вывод о том, что вдовы/вдовцы являются самыми надежными заемщиками. Соотношение надежности для женатых/замужних и разведенных сопоставимо - 92 %. Среди одиноких заемщиков и пар, живущих в гражданском браке показатель надежности самый низкий - 89 % и 90 % соответственно. В целом, здесь видно, что наиболее надежные заемщики, это те, кто находится или когда-либо был в официальном браке."
   ]
  },
  {
   "cell_type": "markdown",
   "metadata": {},
   "source": [
    "- Есть ли зависимость между уровнем дохода и возвратом кредита в срок?"
   ]
  },
  {
   "cell_type": "code",
   "execution_count": 17,
   "metadata": {},
   "outputs": [
    {
     "data": {
      "text/html": [
       "<div>\n",
       "<style scoped>\n",
       "    .dataframe tbody tr th:only-of-type {\n",
       "        vertical-align: middle;\n",
       "    }\n",
       "\n",
       "    .dataframe tbody tr th {\n",
       "        vertical-align: top;\n",
       "    }\n",
       "\n",
       "    .dataframe thead th {\n",
       "        text-align: right;\n",
       "    }\n",
       "</style>\n",
       "<table border=\"1\" class=\"dataframe\">\n",
       "  <thead>\n",
       "    <tr style=\"text-align: right;\">\n",
       "      <th>debt</th>\n",
       "      <th>0</th>\n",
       "      <th>1</th>\n",
       "      <th>reliability</th>\n",
       "    </tr>\n",
       "    <tr>\n",
       "      <th>income_status</th>\n",
       "      <th></th>\n",
       "      <th></th>\n",
       "      <th></th>\n",
       "    </tr>\n",
       "  </thead>\n",
       "  <tbody>\n",
       "    <tr>\n",
       "      <th>высокий доход</th>\n",
       "      <td>4981</td>\n",
       "      <td>383</td>\n",
       "      <td>0.928598</td>\n",
       "    </tr>\n",
       "    <tr>\n",
       "      <th>низкий доход</th>\n",
       "      <td>4922</td>\n",
       "      <td>427</td>\n",
       "      <td>0.920172</td>\n",
       "    </tr>\n",
       "    <tr>\n",
       "      <th>средний доход</th>\n",
       "      <td>7982</td>\n",
       "      <td>830</td>\n",
       "      <td>0.905810</td>\n",
       "    </tr>\n",
       "  </tbody>\n",
       "</table>\n",
       "</div>"
      ],
      "text/plain": [
       "debt              0    1  reliability\n",
       "income_status                        \n",
       "высокий доход  4981  383     0.928598\n",
       "низкий доход   4922  427     0.920172\n",
       "средний доход  7982  830     0.905810"
      ]
     },
     "metadata": {},
     "output_type": "display_data"
    }
   ],
   "source": [
    "income_debt = credit_scoring_query.pivot_table(\n",
    "    index=['income_status'], columns='debt', values='total_income', aggfunc='count')\n",
    "\n",
    "income_debt['reliability'] = income_debt[0]/(income_debt[0] + income_debt[1])\n",
    "display(income_debt.sort_values(by='reliability', ascending=False))"
   ]
  },
  {
   "cell_type": "markdown",
   "metadata": {},
   "source": [
    "### Вывод"
   ]
  },
  {
   "cell_type": "markdown",
   "metadata": {},
   "source": [
    "Зависимость между уровнем дохода и сроком возврата кредита есть. В конечную таблицу добавлен условный параметр 'reliability' , который отражает надежность той или иной группы заемщиков. Лидируют по надежности заемщики с высоким доходом - примерно 93 % от общего числа заемщиков. Уровень надежности заемщиков со низким доходом сопоставим  - 92 %. Самый низкий показатель надежности у заемщиков с средним уровнем дохода - 90 %."
   ]
  },
  {
   "cell_type": "markdown",
   "metadata": {},
   "source": [
    "- Как разные цели кредита влияют на его возврат в срок?"
   ]
  },
  {
   "cell_type": "code",
   "execution_count": 18,
   "metadata": {},
   "outputs": [
    {
     "data": {
      "text/html": [
       "<div>\n",
       "<style scoped>\n",
       "    .dataframe tbody tr th:only-of-type {\n",
       "        vertical-align: middle;\n",
       "    }\n",
       "\n",
       "    .dataframe tbody tr th {\n",
       "        vertical-align: top;\n",
       "    }\n",
       "\n",
       "    .dataframe thead th {\n",
       "        text-align: right;\n",
       "    }\n",
       "</style>\n",
       "<table border=\"1\" class=\"dataframe\">\n",
       "  <thead>\n",
       "    <tr style=\"text-align: right;\">\n",
       "      <th>debt</th>\n",
       "      <th>0</th>\n",
       "      <th>1</th>\n",
       "      <th>reliability</th>\n",
       "    </tr>\n",
       "    <tr>\n",
       "      <th>updated_purpose</th>\n",
       "      <th></th>\n",
       "      <th></th>\n",
       "      <th></th>\n",
       "    </tr>\n",
       "  </thead>\n",
       "  <tbody>\n",
       "    <tr>\n",
       "      <th>недвижимость</th>\n",
       "      <td>9063</td>\n",
       "      <td>740</td>\n",
       "      <td>0.924513</td>\n",
       "    </tr>\n",
       "    <tr>\n",
       "      <th>свадьба</th>\n",
       "      <td>1951</td>\n",
       "      <td>165</td>\n",
       "      <td>0.922023</td>\n",
       "    </tr>\n",
       "    <tr>\n",
       "      <th>образование</th>\n",
       "      <td>3307</td>\n",
       "      <td>349</td>\n",
       "      <td>0.904540</td>\n",
       "    </tr>\n",
       "    <tr>\n",
       "      <th>автомобиль</th>\n",
       "      <td>3564</td>\n",
       "      <td>386</td>\n",
       "      <td>0.902278</td>\n",
       "    </tr>\n",
       "  </tbody>\n",
       "</table>\n",
       "</div>"
      ],
      "text/plain": [
       "debt                0    1  reliability\n",
       "updated_purpose                        \n",
       "недвижимость     9063  740     0.924513\n",
       "свадьба          1951  165     0.922023\n",
       "образование      3307  349     0.904540\n",
       "автомобиль       3564  386     0.902278"
      ]
     },
     "metadata": {},
     "output_type": "display_data"
    }
   ],
   "source": [
    "purpose_debt = credit_scoring_query.pivot_table(\n",
    "    index=['updated_purpose'], columns='debt', values='purpose_status', aggfunc='count')\n",
    "\n",
    "purpose_debt['reliability'] = purpose_debt[0] / \\\n",
    "    (purpose_debt[0] + purpose_debt[1])\n",
    "display(purpose_debt.sort_values(by='reliability', ascending=False))"
   ]
  },
  {
   "cell_type": "markdown",
   "metadata": {},
   "source": [
    "### Вывод"
   ]
  },
  {
   "cell_type": "markdown",
   "metadata": {},
   "source": [
    "По испольуемому в предыдущих задачах условному показателю можно предположить, что к операциям с недвижимостью и организации свадеб заемщики относятся более ответственно - уровень надежности 92 %. Менее надежны обучающиеся и автолюбители - уровень надежности равен 90 %."
   ]
  },
  {
   "cell_type": "markdown",
   "metadata": {},
   "source": [
    "### Шаг 4. Общий вывод"
   ]
  },
  {
   "cell_type": "markdown",
   "metadata": {},
   "source": [
    "Проведено исследование надежности заемщиков по заказу кредитного отдела банка. Сделан ряд выводов: \n",
    "- 1) существует обратно пропорциональная связь между наличием детей и сроком возврата кредита (чем меньше детей в семье, тем выше надежность заемщика); \n",
    "- 2) существует связь между семейным положением заемщика и сроком возврата кредита;\n",
    "- 3) существует прямая связь между суммарным доходом заемщика и сроком возврата кредита;\n",
    "- 4) цель кредита также влияет на решение банка о выдаче кредита.\n",
    "В результате, можно сделать вывод, что на все четыре вопроса задачи найдены ответы. \n",
    "\n",
    "Рекомендации для банка:\n",
    "    \n",
    "- а) лучше выдавать кредиты либо бездетным клиентам, либо клиенты с 3 детьми, менее привлекательные клиенты для банка - семьи с 1, 2, 4 детьми;\n",
    "- б) лучше выдавать кредиты женатым парам, разведенным парам, вдовцам/вдовам, одинокие заемщики и пары, живущие гражданским браком - менее привлекательны для кредитования;\n",
    "- в) что касается доходов, безусловно клиенты с высоким доходом лучшие заемщики, клиенты с низкими доходами тоже не отстают, а вот клиенты со средним доходом менее привлекательны для банка. (Комментарий: мне кажется, что это связано с тем, что: клиенту с высоким доходом кредит выплатить проще; клиент с низким доходом банку выгоден из-за того, что возможны просрочки, а с ними и выплаты пени и т.п; а вот клиенты со средним доходом - возможно случайность, либо проблемы в бизнесе);\n",
    "- г) в зависимости от целей банку лучше выдавать кредиты на недвижимость и организацию свадеб (ведь ипотечная квартира находится в собственности банка - это своебразная страховка от невыплаты, а женатая пара - более привлекательна для банка - это было выяснено в пункте 4.2), на учебу и покупку/ремонт автомобиля кредиты выдавать с осторожностью.\n"
   ]
  },
  {
   "cell_type": "code",
   "execution_count": null,
   "metadata": {},
   "outputs": [],
   "source": []
  }
 ],
 "metadata": {
  "kernelspec": {
   "display_name": "Python 3",
   "language": "python",
   "name": "python3"
  },
  "language_info": {
   "codemirror_mode": {
    "name": "ipython",
    "version": 3
   },
   "file_extension": ".py",
   "mimetype": "text/x-python",
   "name": "python",
   "nbconvert_exporter": "python",
   "pygments_lexer": "ipython3",
   "version": "3.8.5"
  },
  "toc": {
   "base_numbering": 1,
   "nav_menu": {},
   "number_sections": true,
   "sideBar": true,
   "skip_h1_title": false,
   "title_cell": "Table of Contents",
   "title_sidebar": "Contents",
   "toc_cell": false,
   "toc_position": {},
   "toc_section_display": true,
   "toc_window_display": false
  }
 },
 "nbformat": 4,
 "nbformat_minor": 2
}
